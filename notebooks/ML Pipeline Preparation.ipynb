{
 "cells": [
  {
   "cell_type": "markdown",
   "metadata": {},
   "source": [
    "# ML Pipeline Preparation\n",
    "Follow the instructions below to help you create your ML pipeline.\n",
    "### 1. Import libraries and load data from database.\n",
    "- Import Python libraries\n",
    "- Load dataset from database with [`read_sql_table`](https://pandas.pydata.org/pandas-docs/stable/generated/pandas.read_sql_table.html)\n",
    "- Define feature and target variables X and Y"
   ]
  },
  {
   "cell_type": "code",
   "execution_count": 75,
   "metadata": {},
   "outputs": [
    {
     "output_type": "stream",
     "name": "stderr",
     "text": [
      "[nltk_data] Downloading package punkt to /home/guischmitd/nltk_data...\n[nltk_data]   Package punkt is already up-to-date!\n[nltk_data] Downloading package stopwords to\n[nltk_data]     /home/guischmitd/nltk_data...\n[nltk_data]   Package stopwords is already up-to-date!\n[nltk_data] Downloading package wordnet to\n[nltk_data]     /home/guischmitd/nltk_data...\n[nltk_data]   Package wordnet is already up-to-date!\n"
     ]
    }
   ],
   "source": [
    "# import libraries\n",
    "import pandas as pd\n",
    "import re\n",
    "from sqlalchemy import create_engine\n",
    "\n",
    "from nltk import word_tokenize, sent_tokenize\n",
    "from nltk.corpus import stopwords\n",
    "from nltk.stem.wordnet import WordNetLemmatizer\n",
    "\n",
    "import nltk\n",
    "nltk.download('punkt')\n",
    "nltk.download('stopwords')\n",
    "nltk.download('wordnet')\n",
    "\n",
    "from sklearn.multioutput import MultiOutputClassifier\n",
    "from sklearn.ensemble import RandomForestClassifier, GradientBoostingClassifier\n",
    "from sklearn.metrics import confusion_matrix, coverage_error, f1_score, precision_score, recall_score, classification_report, accuracy_score\n",
    "from sklearn.pipeline import Pipeline, FeatureUnion\n",
    "from sklearn.feature_extraction.text import CountVectorizer, TfidfTransformer\n",
    "from sklearn.model_selection import train_test_split"
   ]
  },
  {
   "cell_type": "code",
   "execution_count": 12,
   "metadata": {
    "scrolled": true
   },
   "outputs": [
    {
     "output_type": "execute_result",
     "data": {
      "text/plain": [
       "   id                                            message  \\\n",
       "0   2  Weather update - a cold front from Cuba that c...   \n",
       "1   7            Is the Hurricane over or is it not over   \n",
       "2   8                    Looking for someone but no name   \n",
       "3   9  UN reports Leogane 80-90 destroyed. Only Hospi...   \n",
       "4  12  says: west side of Haiti, rest of the country ...   \n",
       "\n",
       "                                            original   genre  related  \\\n",
       "0  Un front froid se retrouve sur Cuba ce matin. ...  direct        1   \n",
       "1                 Cyclone nan fini osinon li pa fini  direct        1   \n",
       "2  Patnm, di Maryani relem pou li banm nouvel li ...  direct        1   \n",
       "3  UN reports Leogane 80-90 destroyed. Only Hospi...  direct        1   \n",
       "4  facade ouest d Haiti et le reste du pays aujou...  direct        1   \n",
       "\n",
       "   request  offer  aid_related  medical_help  medical_products  ...  \\\n",
       "0        0      0            0             0                 0  ...   \n",
       "1        0      0            1             0                 0  ...   \n",
       "2        0      0            0             0                 0  ...   \n",
       "3        1      0            1             0                 1  ...   \n",
       "4        0      0            0             0                 0  ...   \n",
       "\n",
       "   aid_centers  other_infrastructure  weather_related  floods  storm  fire  \\\n",
       "0            0                     0                0       0      0     0   \n",
       "1            0                     0                1       0      1     0   \n",
       "2            0                     0                0       0      0     0   \n",
       "3            0                     0                0       0      0     0   \n",
       "4            0                     0                0       0      0     0   \n",
       "\n",
       "   earthquake  cold  other_weather  direct_report  \n",
       "0           0     0              0              0  \n",
       "1           0     0              0              0  \n",
       "2           0     0              0              0  \n",
       "3           0     0              0              0  \n",
       "4           0     0              0              0  \n",
       "\n",
       "[5 rows x 40 columns]"
      ],
      "text/html": "<div>\n<style scoped>\n    .dataframe tbody tr th:only-of-type {\n        vertical-align: middle;\n    }\n\n    .dataframe tbody tr th {\n        vertical-align: top;\n    }\n\n    .dataframe thead th {\n        text-align: right;\n    }\n</style>\n<table border=\"1\" class=\"dataframe\">\n  <thead>\n    <tr style=\"text-align: right;\">\n      <th></th>\n      <th>id</th>\n      <th>message</th>\n      <th>original</th>\n      <th>genre</th>\n      <th>related</th>\n      <th>request</th>\n      <th>offer</th>\n      <th>aid_related</th>\n      <th>medical_help</th>\n      <th>medical_products</th>\n      <th>...</th>\n      <th>aid_centers</th>\n      <th>other_infrastructure</th>\n      <th>weather_related</th>\n      <th>floods</th>\n      <th>storm</th>\n      <th>fire</th>\n      <th>earthquake</th>\n      <th>cold</th>\n      <th>other_weather</th>\n      <th>direct_report</th>\n    </tr>\n  </thead>\n  <tbody>\n    <tr>\n      <th>0</th>\n      <td>2</td>\n      <td>Weather update - a cold front from Cuba that c...</td>\n      <td>Un front froid se retrouve sur Cuba ce matin. ...</td>\n      <td>direct</td>\n      <td>1</td>\n      <td>0</td>\n      <td>0</td>\n      <td>0</td>\n      <td>0</td>\n      <td>0</td>\n      <td>...</td>\n      <td>0</td>\n      <td>0</td>\n      <td>0</td>\n      <td>0</td>\n      <td>0</td>\n      <td>0</td>\n      <td>0</td>\n      <td>0</td>\n      <td>0</td>\n      <td>0</td>\n    </tr>\n    <tr>\n      <th>1</th>\n      <td>7</td>\n      <td>Is the Hurricane over or is it not over</td>\n      <td>Cyclone nan fini osinon li pa fini</td>\n      <td>direct</td>\n      <td>1</td>\n      <td>0</td>\n      <td>0</td>\n      <td>1</td>\n      <td>0</td>\n      <td>0</td>\n      <td>...</td>\n      <td>0</td>\n      <td>0</td>\n      <td>1</td>\n      <td>0</td>\n      <td>1</td>\n      <td>0</td>\n      <td>0</td>\n      <td>0</td>\n      <td>0</td>\n      <td>0</td>\n    </tr>\n    <tr>\n      <th>2</th>\n      <td>8</td>\n      <td>Looking for someone but no name</td>\n      <td>Patnm, di Maryani relem pou li banm nouvel li ...</td>\n      <td>direct</td>\n      <td>1</td>\n      <td>0</td>\n      <td>0</td>\n      <td>0</td>\n      <td>0</td>\n      <td>0</td>\n      <td>...</td>\n      <td>0</td>\n      <td>0</td>\n      <td>0</td>\n      <td>0</td>\n      <td>0</td>\n      <td>0</td>\n      <td>0</td>\n      <td>0</td>\n      <td>0</td>\n      <td>0</td>\n    </tr>\n    <tr>\n      <th>3</th>\n      <td>9</td>\n      <td>UN reports Leogane 80-90 destroyed. Only Hospi...</td>\n      <td>UN reports Leogane 80-90 destroyed. Only Hospi...</td>\n      <td>direct</td>\n      <td>1</td>\n      <td>1</td>\n      <td>0</td>\n      <td>1</td>\n      <td>0</td>\n      <td>1</td>\n      <td>...</td>\n      <td>0</td>\n      <td>0</td>\n      <td>0</td>\n      <td>0</td>\n      <td>0</td>\n      <td>0</td>\n      <td>0</td>\n      <td>0</td>\n      <td>0</td>\n      <td>0</td>\n    </tr>\n    <tr>\n      <th>4</th>\n      <td>12</td>\n      <td>says: west side of Haiti, rest of the country ...</td>\n      <td>facade ouest d Haiti et le reste du pays aujou...</td>\n      <td>direct</td>\n      <td>1</td>\n      <td>0</td>\n      <td>0</td>\n      <td>0</td>\n      <td>0</td>\n      <td>0</td>\n      <td>...</td>\n      <td>0</td>\n      <td>0</td>\n      <td>0</td>\n      <td>0</td>\n      <td>0</td>\n      <td>0</td>\n      <td>0</td>\n      <td>0</td>\n      <td>0</td>\n      <td>0</td>\n    </tr>\n  </tbody>\n</table>\n<p>5 rows × 40 columns</p>\n</div>"
     },
     "metadata": {},
     "execution_count": 12
    }
   ],
   "source": [
    "# load data from database\n",
    "engine = create_engine('sqlite:///../data/DisasterResponse.db')\n",
    "df = pd.read_sql_table('categorized_messages', engine)\n",
    "df.head()"
   ]
  },
  {
   "cell_type": "code",
   "execution_count": 14,
   "metadata": {},
   "outputs": [],
   "source": [
    "X = df['message']\n",
    "target_cols = [col for col in df.columns if col not in ('id', 'message', 'original', 'genre')]\n",
    "Y = df[target_cols]"
   ]
  },
  {
   "cell_type": "code",
   "execution_count": 15,
   "metadata": {
    "tags": []
   },
   "outputs": [
    {
     "output_type": "stream",
     "name": "stdout",
     "text": [
      "\n1    19874\n0     6115\nName: related, dtype: int64\n\n0    21525\n1     4464\nName: request, dtype: int64\n\n0    25872\n1      117\nName: offer, dtype: int64\n\n0    15149\n1    10840\nName: aid_related, dtype: int64\n\n0    23909\n1     2080\nName: medical_help, dtype: int64\n\n0    24679\n1     1310\nName: medical_products, dtype: int64\n\n0    25265\n1      724\nName: search_and_rescue, dtype: int64\n\n0    25518\n1      471\nName: security, dtype: int64\n\n0    25130\n1      859\nName: military, dtype: int64\n\n0    25989\nName: child_alone, dtype: int64\n\n0    24320\n1     1669\nName: water, dtype: int64\n\n0    23072\n1     2917\nName: food, dtype: int64\n\n0    23681\n1     2308\nName: shelter, dtype: int64\n\n0    25585\n1      404\nName: clothing, dtype: int64\n\n0    25386\n1      603\nName: money, dtype: int64\n\n0    25691\n1      298\nName: missing_people, dtype: int64\n\n0    25115\n1      874\nName: refugees, dtype: int64\n\n0    24797\n1     1192\nName: death, dtype: int64\n\n0    22548\n1     3441\nName: other_aid, dtype: int64\n\n0    24284\n1     1705\nName: infrastructure_related, dtype: int64\n\n0    24790\n1     1199\nName: transport, dtype: int64\n\n0    24658\n1     1331\nName: buildings, dtype: int64\n\n0    25457\n1      532\nName: electricity, dtype: int64\n\n0    25830\n1      159\nName: tools, dtype: int64\n\n0    25706\n1      283\nName: hospitals, dtype: int64\n\n0    25869\n1      120\nName: shops, dtype: int64\n\n0    25680\n1      309\nName: aid_centers, dtype: int64\n\n0    24838\n1     1151\nName: other_infrastructure, dtype: int64\n\n0    18703\n1     7286\nName: weather_related, dtype: int64\n\n0    23840\n1     2149\nName: floods, dtype: int64\n\n0    23549\n1     2440\nName: storm, dtype: int64\n\n0    25707\n1      282\nName: fire, dtype: int64\n\n0    23537\n1     2452\nName: earthquake, dtype: int64\n\n0    25461\n1      528\nName: cold, dtype: int64\n\n0    24613\n1     1376\nName: other_weather, dtype: int64\n\n0    20926\n1     5063\nName: direct_report, dtype: int64\n"
     ]
    }
   ],
   "source": [
    "for col in Y.columns:\n",
    "    print()\n",
    "    print(Y[col].value_counts())"
   ]
  },
  {
   "cell_type": "markdown",
   "metadata": {},
   "source": [
    "### 2. Write a tokenization function to process your text data"
   ]
  },
  {
   "cell_type": "code",
   "execution_count": 67,
   "metadata": {},
   "outputs": [
    {
     "output_type": "stream",
     "name": "stdout",
     "text": [
      "If a person needs to go to St Domingo and doesn't have a visa, is the ambassador open? It is us that will like to find it. \n"
     ]
    },
    {
     "output_type": "execute_result",
     "data": {
      "text/plain": [
       "['person',\n",
       " 'need',\n",
       " 'go',\n",
       " 'st',\n",
       " 'domingo',\n",
       " 'visa',\n",
       " 'ambassador',\n",
       " 'open',\n",
       " 'u',\n",
       " 'like',\n",
       " 'find']"
      ]
     },
     "metadata": {},
     "execution_count": 67
    }
   ],
   "source": [
    "def tokenize(text):\n",
    "    lemmatizer = WordNetLemmatizer()\n",
    "    stop_words = stopwords.words('english')\n",
    "    \n",
    "    # normalize (remove capitalization)\n",
    "    text = text.lower()\n",
    "    \n",
    "    # remove URLs\n",
    "    text = re.sub('(http(s)?:\\/\\/.)?(www\\.)?[-a-zA-Z0-9@:%._\\+~#=]{2,256}\\.[a-z]{2,6}\\b([-a-zA-Z0-9@:%_\\+.~#?&//=]*)', 'urlplaceholder', text)\n",
    "    \n",
    "    # remove punctuation\n",
    "    text = re.sub('\\W', ' ', text)\n",
    "    \n",
    "    sentences = sent_tokenize(text)\n",
    "    \n",
    "    tokens = []\n",
    "    for sent in sentences:\n",
    "        tokens.extend([lemmatizer.lemmatize(word) for word in word_tokenize(sent) if word not in stop_words])\n",
    "    \n",
    "    return tokens\n",
    "\n",
    "test_msg = X.sample(1).iloc[0]\n",
    "print(test_msg)\n",
    "tokenize(test_msg)"
   ]
  },
  {
   "cell_type": "code",
   "execution_count": 68,
   "metadata": {},
   "outputs": [
    {
     "output_type": "stream",
     "name": "stdout",
     "text": [
      "How will things be for tomorrow?\n"
     ]
    },
    {
     "output_type": "execute_result",
     "data": {
      "text/plain": [
       "['thing', 'tomorrow']"
      ]
     },
     "metadata": {},
     "execution_count": 68
    }
   ],
   "source": [
    "test_msg = 'How will things be for tomorrow?'\n",
    "print(test_msg)\n",
    "tokenize(test_msg)\n"
   ]
  },
  {
   "cell_type": "markdown",
   "metadata": {},
   "source": [
    "### 3. Build a machine learning pipeline\n",
    "This machine pipeline should take in the `message` column as input and output classification results on the other 36 categories in the dataset. You may find the [MultiOutputClassifier](http://scikit-learn.org/stable/modules/generated/sklearn.multioutput.MultiOutputClassifier.html) helpful for predicting multiple target variables."
   ]
  },
  {
   "cell_type": "code",
   "execution_count": 69,
   "metadata": {},
   "outputs": [],
   "source": [
    "pipeline = Pipeline([\n",
    "    ('vect', CountVectorizer(tokenizer=tokenize)),\n",
    "    ('tfidf', TfidfTransformer()),\n",
    "    ('clf', MultiOutputClassifier(RandomForestClassifier()))\n",
    "])"
   ]
  },
  {
   "cell_type": "markdown",
   "metadata": {},
   "source": [
    "### 4. Train pipeline\n",
    "- Split data into train and test sets\n",
    "- Train pipeline"
   ]
  },
  {
   "cell_type": "code",
   "execution_count": 70,
   "metadata": {},
   "outputs": [],
   "source": [
    "seed = 51\n",
    "X_train, X_test, y_train, y_test = train_test_split(X, Y, test_size=.3, random_state=seed)"
   ]
  },
  {
   "cell_type": "code",
   "execution_count": 71,
   "metadata": {},
   "outputs": [
    {
     "output_type": "execute_result",
     "data": {
      "text/plain": [
       "((18192,), (18192, 36))"
      ]
     },
     "metadata": {},
     "execution_count": 71
    }
   ],
   "source": [
    "X_train.shape, y_train.shape"
   ]
  },
  {
   "cell_type": "code",
   "execution_count": 72,
   "metadata": {},
   "outputs": [
    {
     "output_type": "execute_result",
     "data": {
      "text/plain": [
       "Pipeline(steps=[('vect',\n",
       "                 CountVectorizer(tokenizer=<function tokenize at 0x7f00883bd378>)),\n",
       "                ('tfidf', TfidfTransformer()),\n",
       "                ('clf',\n",
       "                 MultiOutputClassifier(estimator=RandomForestClassifier()))])"
      ]
     },
     "metadata": {},
     "execution_count": 72
    }
   ],
   "source": [
    "pipeline.fit(X_train, y_train)"
   ]
  },
  {
   "cell_type": "markdown",
   "metadata": {},
   "source": [
    "### 5. Test your model\n",
    "Report the f1 score, precision and recall for each output category of the dataset. You can do this by iterating through the columns and calling sklearn's `classification_report` on each."
   ]
  },
  {
   "cell_type": "code",
   "execution_count": 73,
   "metadata": {},
   "outputs": [],
   "source": [
    "y_pred = pipeline.predict(X_test)"
   ]
  },
  {
   "cell_type": "code",
   "execution_count": 76,
   "metadata": {},
   "outputs": [
    {
     "output_type": "stream",
     "name": "stdout",
     "text": [
      "*** Category: related ***\n",
      "              precision    recall  f1-score   support\n",
      "\n",
      "           0       0.70      0.41      0.52      1829\n",
      "           1       0.84      0.95      0.89      5968\n",
      "\n",
      "    accuracy                           0.82      7797\n",
      "   macro avg       0.77      0.68      0.70      7797\n",
      "weighted avg       0.81      0.82      0.80      7797\n",
      "\n",
      "*** Category: request ***\n",
      "              precision    recall  f1-score   support\n",
      "\n",
      "           0       0.90      0.98      0.94      6436\n",
      "           1       0.84      0.50      0.63      1361\n",
      "\n",
      "    accuracy                           0.90      7797\n",
      "   macro avg       0.87      0.74      0.78      7797\n",
      "weighted avg       0.89      0.90      0.89      7797\n",
      "\n",
      "*** Category: offer ***\n",
      "              precision    recall  f1-score   support\n",
      "\n",
      "           0       0.99      1.00      1.00      7756\n",
      "           1       0.00      0.00      0.00        41\n",
      "\n",
      "    accuracy                           0.99      7797\n",
      "   macro avg       0.50      0.50      0.50      7797\n",
      "weighted avg       0.99      0.99      0.99      7797\n",
      "\n",
      "*** Category: aid_related ***\n",
      "              precision    recall  f1-score   support\n",
      "\n",
      "           0       0.79      0.85      0.82      4528\n",
      "           1       0.77      0.69      0.73      3269\n",
      "\n",
      "    accuracy                           0.78      7797\n",
      "   macro avg       0.78      0.77      0.77      7797\n",
      "weighted avg       0.78      0.78      0.78      7797\n",
      "\n",
      "*** Category: medical_help ***\n",
      "              precision    recall  f1-score   support\n",
      "\n",
      "           0       0.93      1.00      0.96      7164\n",
      "           1       0.72      0.09      0.15       633\n",
      "\n",
      "    accuracy                           0.92      7797\n",
      "   macro avg       0.82      0.54      0.56      7797\n",
      "weighted avg       0.91      0.92      0.89      7797\n",
      "\n",
      "*** Category: medical_products ***\n",
      "              precision    recall  f1-score   support\n",
      "\n",
      "           0       0.96      1.00      0.98      7410\n",
      "           1       0.81      0.10      0.18       387\n",
      "\n",
      "    accuracy                           0.95      7797\n",
      "   macro avg       0.88      0.55      0.58      7797\n",
      "weighted avg       0.95      0.95      0.94      7797\n",
      "\n",
      "*** Category: search_and_rescue ***\n",
      "              precision    recall  f1-score   support\n",
      "\n",
      "           0       0.97      1.00      0.99      7567\n",
      "           1       0.81      0.06      0.11       230\n",
      "\n",
      "    accuracy                           0.97      7797\n",
      "   macro avg       0.89      0.53      0.55      7797\n",
      "weighted avg       0.97      0.97      0.96      7797\n",
      "\n",
      "*** Category: security ***\n",
      "              precision    recall  f1-score   support\n",
      "\n",
      "           0       0.98      1.00      0.99      7661\n",
      "           1       0.00      0.00      0.00       136\n",
      "\n",
      "    accuracy                           0.98      7797\n",
      "   macro avg       0.49      0.50      0.50      7797\n",
      "weighted avg       0.97      0.98      0.97      7797\n",
      "\n",
      "*** Category: military ***\n",
      "              precision    recall  f1-score   support\n",
      "\n",
      "           0       0.97      1.00      0.98      7559\n",
      "           1       0.67      0.07      0.12       238\n",
      "\n",
      "    accuracy                           0.97      7797\n",
      "   macro avg       0.82      0.53      0.55      7797\n",
      "weighted avg       0.96      0.97      0.96      7797\n",
      "\n",
      "*** Category: child_alone ***\n",
      "              precision    recall  f1-score   support\n",
      "\n",
      "           0       1.00      1.00      1.00      7797\n",
      "\n",
      "    accuracy                           1.00      7797\n",
      "   macro avg       1.00      1.00      1.00      7797\n",
      "weighted avg       1.00      1.00      1.00      7797\n",
      "\n",
      "*** Category: water ***\n",
      "              precision    recall  f1-score   support\n",
      "\n",
      "           0       0.96      1.00      0.98      7307\n",
      "           1       0.91      0.38      0.53       490\n",
      "\n",
      "    accuracy                           0.96      7797\n",
      "   macro avg       0.93      0.69      0.75      7797\n",
      "weighted avg       0.96      0.96      0.95      7797\n",
      "\n",
      "*** Category: food ***\n",
      "              precision    recall  f1-score   support\n",
      "\n",
      "           0       0.95      0.99      0.97      6900\n",
      "           1       0.86      0.57      0.68       897\n",
      "\n",
      "    accuracy                           0.94      7797\n",
      "   macro avg       0.90      0.78      0.82      7797\n",
      "weighted avg       0.94      0.94      0.93      7797\n",
      "\n",
      "*** Category: shelter ***\n",
      "              precision    recall  f1-score   support\n",
      "\n",
      "           0       0.94      0.99      0.96      7074\n",
      "           1       0.86      0.34      0.49       723\n",
      "\n",
      "    accuracy                           0.93      7797\n",
      "   macro avg       0.90      0.67      0.73      7797\n",
      "weighted avg       0.93      0.93      0.92      7797\n",
      "\n",
      "*** Category: clothing ***\n",
      "              precision    recall  f1-score   support\n",
      "\n",
      "           0       0.99      1.00      0.99      7682\n",
      "           1       0.68      0.15      0.24       115\n",
      "\n",
      "    accuracy                           0.99      7797\n",
      "   macro avg       0.83      0.57      0.62      7797\n",
      "weighted avg       0.98      0.99      0.98      7797\n",
      "\n",
      "*** Category: money ***\n",
      "              precision    recall  f1-score   support\n",
      "\n",
      "           0       0.98      1.00      0.99      7627\n",
      "           1       1.00      0.02      0.05       170\n",
      "\n",
      "    accuracy                           0.98      7797\n",
      "   macro avg       0.99      0.51      0.52      7797\n",
      "weighted avg       0.98      0.98      0.97      7797\n",
      "\n",
      "*** Category: missing_people ***\n",
      "              precision    recall  f1-score   support\n",
      "\n",
      "           0       0.99      1.00      0.99      7709\n",
      "           1       0.67      0.02      0.04        88\n",
      "\n",
      "    accuracy                           0.99      7797\n",
      "   macro avg       0.83      0.51      0.52      7797\n",
      "weighted avg       0.99      0.99      0.98      7797\n",
      "\n",
      "*** Category: refugees ***\n",
      "              precision    recall  f1-score   support\n",
      "\n",
      "           0       0.97      1.00      0.98      7530\n",
      "           1       0.60      0.01      0.02       267\n",
      "\n",
      "    accuracy                           0.97      7797\n",
      "   macro avg       0.78      0.51      0.50      7797\n",
      "weighted avg       0.95      0.97      0.95      7797\n",
      "\n",
      "*** Category: death ***\n",
      "              precision    recall  f1-score   support\n",
      "\n",
      "           0       0.96      1.00      0.98      7433\n",
      "           1       0.86      0.18      0.30       364\n",
      "\n",
      "    accuracy                           0.96      7797\n",
      "   macro avg       0.91      0.59      0.64      7797\n",
      "weighted avg       0.96      0.96      0.95      7797\n",
      "\n",
      "*** Category: other_aid ***\n",
      "              precision    recall  f1-score   support\n",
      "\n",
      "           0       0.88      1.00      0.93      6790\n",
      "           1       0.67      0.04      0.08      1007\n",
      "\n",
      "    accuracy                           0.87      7797\n",
      "   macro avg       0.77      0.52      0.50      7797\n",
      "weighted avg       0.85      0.87      0.82      7797\n",
      "\n",
      "*** Category: infrastructure_related ***\n",
      "/home/guischmitd/Projects/udacity/disaster-response-classifier/.venv/lib/python3.6/site-packages/sklearn/metrics/_classification.py:1248: UndefinedMetricWarning: Precision and F-score are ill-defined and being set to 0.0 in labels with no predicted samples. Use `zero_division` parameter to control this behavior.\n",
      "  _warn_prf(average, modifier, msg_start, len(result))\n",
      "/home/guischmitd/Projects/udacity/disaster-response-classifier/.venv/lib/python3.6/site-packages/sklearn/metrics/_classification.py:1248: UndefinedMetricWarning: Precision and F-score are ill-defined and being set to 0.0 in labels with no predicted samples. Use `zero_division` parameter to control this behavior.\n",
      "  _warn_prf(average, modifier, msg_start, len(result))\n",
      "/home/guischmitd/Projects/udacity/disaster-response-classifier/.venv/lib/python3.6/site-packages/sklearn/metrics/_classification.py:1248: UndefinedMetricWarning: Precision and F-score are ill-defined and being set to 0.0 in labels with no predicted samples. Use `zero_division` parameter to control this behavior.\n",
      "  _warn_prf(average, modifier, msg_start, len(result))\n",
      "              precision    recall  f1-score   support\n",
      "\n",
      "           0       0.94      1.00      0.97      7296\n",
      "           1       0.17      0.00      0.00       501\n",
      "\n",
      "    accuracy                           0.94      7797\n",
      "   macro avg       0.55      0.50      0.49      7797\n",
      "weighted avg       0.89      0.94      0.90      7797\n",
      "\n",
      "*** Category: transport ***\n",
      "              precision    recall  f1-score   support\n",
      "\n",
      "           0       0.96      1.00      0.98      7430\n",
      "           1       0.67      0.10      0.17       367\n",
      "\n",
      "    accuracy                           0.96      7797\n",
      "   macro avg       0.81      0.55      0.57      7797\n",
      "weighted avg       0.94      0.96      0.94      7797\n",
      "\n",
      "*** Category: buildings ***\n",
      "              precision    recall  f1-score   support\n",
      "\n",
      "           0       0.95      1.00      0.98      7404\n",
      "           1       0.75      0.11      0.19       393\n",
      "\n",
      "    accuracy                           0.95      7797\n",
      "   macro avg       0.85      0.55      0.59      7797\n",
      "weighted avg       0.94      0.95      0.94      7797\n",
      "\n",
      "*** Category: electricity ***\n",
      "              precision    recall  f1-score   support\n",
      "\n",
      "           0       0.98      1.00      0.99      7647\n",
      "           1       0.91      0.07      0.12       150\n",
      "\n",
      "    accuracy                           0.98      7797\n",
      "   macro avg       0.95      0.53      0.56      7797\n",
      "weighted avg       0.98      0.98      0.97      7797\n",
      "\n",
      "*** Category: tools ***\n",
      "              precision    recall  f1-score   support\n",
      "\n",
      "           0       0.99      1.00      1.00      7754\n",
      "           1       0.00      0.00      0.00        43\n",
      "\n",
      "    accuracy                           0.99      7797\n",
      "   macro avg       0.50      0.50      0.50      7797\n",
      "weighted avg       0.99      0.99      0.99      7797\n",
      "\n",
      "*** Category: hospitals ***\n",
      "              precision    recall  f1-score   support\n",
      "\n",
      "           0       0.99      1.00      1.00      7722\n",
      "           1       0.00      0.00      0.00        75\n",
      "\n",
      "    accuracy                           0.99      7797\n",
      "   macro avg       0.50      0.50      0.50      7797\n",
      "weighted avg       0.98      0.99      0.99      7797\n",
      "\n",
      "*** Category: shops ***\n",
      "              precision    recall  f1-score   support\n",
      "\n",
      "           0       1.00      1.00      1.00      7760\n",
      "           1       0.00      0.00      0.00        37\n",
      "\n",
      "    accuracy                           1.00      7797\n",
      "   macro avg       0.50      0.50      0.50      7797\n",
      "weighted avg       0.99      1.00      0.99      7797\n",
      "\n",
      "*** Category: aid_centers ***\n",
      "              precision    recall  f1-score   support\n",
      "\n",
      "           0       0.99      1.00      1.00      7728\n",
      "           1       0.00      0.00      0.00        69\n",
      "\n",
      "    accuracy                           0.99      7797\n",
      "   macro avg       0.50      0.50      0.50      7797\n",
      "weighted avg       0.98      0.99      0.99      7797\n",
      "\n",
      "*** Category: other_infrastructure ***\n",
      "              precision    recall  f1-score   support\n",
      "\n",
      "           0       0.96      1.00      0.98      7447\n",
      "           1       0.17      0.00      0.01       350\n",
      "\n",
      "    accuracy                           0.95      7797\n",
      "   macro avg       0.56      0.50      0.49      7797\n",
      "weighted avg       0.92      0.95      0.93      7797\n",
      "\n",
      "*** Category: weather_related ***\n",
      "              precision    recall  f1-score   support\n",
      "\n",
      "           0       0.89      0.95      0.92      5627\n",
      "           1       0.84      0.70      0.76      2170\n",
      "\n",
      "    accuracy                           0.88      7797\n",
      "   macro avg       0.86      0.83      0.84      7797\n",
      "weighted avg       0.88      0.88      0.88      7797\n",
      "\n",
      "*** Category: floods ***\n",
      "              precision    recall  f1-score   support\n",
      "\n",
      "           0       0.95      1.00      0.97      7124\n",
      "           1       0.90      0.48      0.62       673\n",
      "\n",
      "    accuracy                           0.95      7797\n",
      "   macro avg       0.93      0.74      0.80      7797\n",
      "weighted avg       0.95      0.95      0.94      7797\n",
      "\n",
      "*** Category: storm ***\n",
      "              precision    recall  f1-score   support\n",
      "\n",
      "           0       0.95      0.98      0.97      7057\n",
      "           1       0.76      0.54      0.63       740\n",
      "\n",
      "    accuracy                           0.94      7797\n",
      "   macro avg       0.86      0.76      0.80      7797\n",
      "weighted avg       0.93      0.94      0.94      7797\n",
      "\n",
      "*** Category: fire ***\n",
      "              precision    recall  f1-score   support\n",
      "\n",
      "           0       0.99      1.00      0.99      7718\n",
      "           1       0.00      0.00      0.00        79\n",
      "\n",
      "    accuracy                           0.99      7797\n",
      "   macro avg       0.49      0.50      0.50      7797\n",
      "weighted avg       0.98      0.99      0.98      7797\n",
      "\n",
      "*** Category: earthquake ***\n",
      "              precision    recall  f1-score   support\n",
      "\n",
      "           0       0.98      0.99      0.99      7092\n",
      "           1       0.88      0.81      0.84       705\n",
      "\n",
      "    accuracy                           0.97      7797\n",
      "   macro avg       0.93      0.90      0.91      7797\n",
      "weighted avg       0.97      0.97      0.97      7797\n",
      "\n",
      "*** Category: cold ***\n",
      "              precision    recall  f1-score   support\n",
      "\n",
      "           0       0.98      1.00      0.99      7648\n",
      "           1       0.85      0.07      0.14       149\n",
      "\n",
      "    accuracy                           0.98      7797\n",
      "   macro avg       0.91      0.54      0.56      7797\n",
      "weighted avg       0.98      0.98      0.97      7797\n",
      "\n",
      "*** Category: other_weather ***\n",
      "              precision    recall  f1-score   support\n",
      "\n",
      "           0       0.95      1.00      0.97      7394\n",
      "           1       0.57      0.03      0.06       403\n",
      "\n",
      "    accuracy                           0.95      7797\n",
      "   macro avg       0.76      0.51      0.52      7797\n",
      "weighted avg       0.93      0.95      0.93      7797\n",
      "\n",
      "*** Category: direct_report ***\n",
      "              precision    recall  f1-score   support\n",
      "\n",
      "           0       0.86      0.98      0.92      6258\n",
      "           1       0.81      0.37      0.51      1539\n",
      "\n",
      "    accuracy                           0.86      7797\n",
      "   macro avg       0.83      0.68      0.71      7797\n",
      "weighted avg       0.85      0.86      0.84      7797\n",
      "\n",
      "/home/guischmitd/Projects/udacity/disaster-response-classifier/.venv/lib/python3.6/site-packages/sklearn/metrics/_classification.py:1248: UndefinedMetricWarning: Precision and F-score are ill-defined and being set to 0.0 in labels with no predicted samples. Use `zero_division` parameter to control this behavior.\n",
      "  _warn_prf(average, modifier, msg_start, len(result))\n",
      "/home/guischmitd/Projects/udacity/disaster-response-classifier/.venv/lib/python3.6/site-packages/sklearn/metrics/_classification.py:1248: UndefinedMetricWarning: Precision and F-score are ill-defined and being set to 0.0 in labels with no predicted samples. Use `zero_division` parameter to control this behavior.\n",
      "  _warn_prf(average, modifier, msg_start, len(result))\n",
      "/home/guischmitd/Projects/udacity/disaster-response-classifier/.venv/lib/python3.6/site-packages/sklearn/metrics/_classification.py:1248: UndefinedMetricWarning: Precision and F-score are ill-defined and being set to 0.0 in labels with no predicted samples. Use `zero_division` parameter to control this behavior.\n",
      "  _warn_prf(average, modifier, msg_start, len(result))\n",
      "/home/guischmitd/Projects/udacity/disaster-response-classifier/.venv/lib/python3.6/site-packages/sklearn/metrics/_classification.py:1248: UndefinedMetricWarning: Precision and F-score are ill-defined and being set to 0.0 in labels with no predicted samples. Use `zero_division` parameter to control this behavior.\n",
      "  _warn_prf(average, modifier, msg_start, len(result))\n",
      "/home/guischmitd/Projects/udacity/disaster-response-classifier/.venv/lib/python3.6/site-packages/sklearn/metrics/_classification.py:1248: UndefinedMetricWarning: Precision and F-score are ill-defined and being set to 0.0 in labels with no predicted samples. Use `zero_division` parameter to control this behavior.\n",
      "  _warn_prf(average, modifier, msg_start, len(result))\n",
      "/home/guischmitd/Projects/udacity/disaster-response-classifier/.venv/lib/python3.6/site-packages/sklearn/metrics/_classification.py:1248: UndefinedMetricWarning: Precision and F-score are ill-defined and being set to 0.0 in labels with no predicted samples. Use `zero_division` parameter to control this behavior.\n",
      "  _warn_prf(average, modifier, msg_start, len(result))\n",
      "/home/guischmitd/Projects/udacity/disaster-response-classifier/.venv/lib/python3.6/site-packages/sklearn/metrics/_classification.py:1248: UndefinedMetricWarning: Precision and F-score are ill-defined and being set to 0.0 in labels with no predicted samples. Use `zero_division` parameter to control this behavior.\n",
      "  _warn_prf(average, modifier, msg_start, len(result))\n",
      "/home/guischmitd/Projects/udacity/disaster-response-classifier/.venv/lib/python3.6/site-packages/sklearn/metrics/_classification.py:1248: UndefinedMetricWarning: Precision and F-score are ill-defined and being set to 0.0 in labels with no predicted samples. Use `zero_division` parameter to control this behavior.\n",
      "  _warn_prf(average, modifier, msg_start, len(result))\n",
      "/home/guischmitd/Projects/udacity/disaster-response-classifier/.venv/lib/python3.6/site-packages/sklearn/metrics/_classification.py:1248: UndefinedMetricWarning: Precision and F-score are ill-defined and being set to 0.0 in labels with no predicted samples. Use `zero_division` parameter to control this behavior.\n",
      "  _warn_prf(average, modifier, msg_start, len(result))\n",
      "/home/guischmitd/Projects/udacity/disaster-response-classifier/.venv/lib/python3.6/site-packages/sklearn/metrics/_classification.py:1248: UndefinedMetricWarning: Precision and F-score are ill-defined and being set to 0.0 in labels with no predicted samples. Use `zero_division` parameter to control this behavior.\n",
      "  _warn_prf(average, modifier, msg_start, len(result))\n",
      "/home/guischmitd/Projects/udacity/disaster-response-classifier/.venv/lib/python3.6/site-packages/sklearn/metrics/_classification.py:1248: UndefinedMetricWarning: Precision and F-score are ill-defined and being set to 0.0 in labels with no predicted samples. Use `zero_division` parameter to control this behavior.\n",
      "  _warn_prf(average, modifier, msg_start, len(result))\n",
      "/home/guischmitd/Projects/udacity/disaster-response-classifier/.venv/lib/python3.6/site-packages/sklearn/metrics/_classification.py:1248: UndefinedMetricWarning: Precision and F-score are ill-defined and being set to 0.0 in labels with no predicted samples. Use `zero_division` parameter to control this behavior.\n",
      "  _warn_prf(average, modifier, msg_start, len(result))\n",
      "/home/guischmitd/Projects/udacity/disaster-response-classifier/.venv/lib/python3.6/site-packages/sklearn/metrics/_classification.py:1248: UndefinedMetricWarning: Precision and F-score are ill-defined and being set to 0.0 in labels with no predicted samples. Use `zero_division` parameter to control this behavior.\n",
      "  _warn_prf(average, modifier, msg_start, len(result))\n",
      "/home/guischmitd/Projects/udacity/disaster-response-classifier/.venv/lib/python3.6/site-packages/sklearn/metrics/_classification.py:1248: UndefinedMetricWarning: Precision and F-score are ill-defined and being set to 0.0 in labels with no predicted samples. Use `zero_division` parameter to control this behavior.\n",
      "  _warn_prf(average, modifier, msg_start, len(result))\n",
      "/home/guischmitd/Projects/udacity/disaster-response-classifier/.venv/lib/python3.6/site-packages/sklearn/metrics/_classification.py:1248: UndefinedMetricWarning: Precision and F-score are ill-defined and being set to 0.0 in labels with no predicted samples. Use `zero_division` parameter to control this behavior.\n",
      "  _warn_prf(average, modifier, msg_start, len(result))\n"
     ]
    }
   ],
   "source": [
    "for i, col in enumerate(y_test.columns):\n",
    "        print('*** Category:', col, '***')\n",
    "        print(classification_report(y_test[col], y_pred[:, i]))"
   ]
  },
  {
   "cell_type": "code",
   "execution_count": 80,
   "metadata": {},
   "outputs": [
    {
     "output_type": "stream",
     "text": [
      "\u001b[0;31mSignature:\u001b[0m\n",
      "\u001b[0mprecision_score\u001b[0m\u001b[0;34m(\u001b[0m\u001b[0;34m\u001b[0m\n",
      "\u001b[0;34m\u001b[0m    \u001b[0my_true\u001b[0m\u001b[0;34m,\u001b[0m\u001b[0;34m\u001b[0m\n",
      "\u001b[0;34m\u001b[0m    \u001b[0my_pred\u001b[0m\u001b[0;34m,\u001b[0m\u001b[0;34m\u001b[0m\n",
      "\u001b[0;34m\u001b[0m    \u001b[0;34m*\u001b[0m\u001b[0;34m,\u001b[0m\u001b[0;34m\u001b[0m\n",
      "\u001b[0;34m\u001b[0m    \u001b[0mlabels\u001b[0m\u001b[0;34m=\u001b[0m\u001b[0;32mNone\u001b[0m\u001b[0;34m,\u001b[0m\u001b[0;34m\u001b[0m\n",
      "\u001b[0;34m\u001b[0m    \u001b[0mpos_label\u001b[0m\u001b[0;34m=\u001b[0m\u001b[0;36m1\u001b[0m\u001b[0;34m,\u001b[0m\u001b[0;34m\u001b[0m\n",
      "\u001b[0;34m\u001b[0m    \u001b[0maverage\u001b[0m\u001b[0;34m=\u001b[0m\u001b[0;34m'binary'\u001b[0m\u001b[0;34m,\u001b[0m\u001b[0;34m\u001b[0m\n",
      "\u001b[0;34m\u001b[0m    \u001b[0msample_weight\u001b[0m\u001b[0;34m=\u001b[0m\u001b[0;32mNone\u001b[0m\u001b[0;34m,\u001b[0m\u001b[0;34m\u001b[0m\n",
      "\u001b[0;34m\u001b[0m    \u001b[0mzero_division\u001b[0m\u001b[0;34m=\u001b[0m\u001b[0;34m'warn'\u001b[0m\u001b[0;34m,\u001b[0m\u001b[0;34m\u001b[0m\n",
      "\u001b[0;34m\u001b[0m\u001b[0;34m)\u001b[0m\u001b[0;34m\u001b[0m\u001b[0;34m\u001b[0m\u001b[0m\n",
      "\u001b[0;31mDocstring:\u001b[0m\n",
      "Compute the precision.\n",
      "\n",
      "The precision is the ratio ``tp / (tp + fp)`` where ``tp`` is the number of\n",
      "true positives and ``fp`` the number of false positives. The precision is\n",
      "intuitively the ability of the classifier not to label as positive a sample\n",
      "that is negative.\n",
      "\n",
      "The best value is 1 and the worst value is 0.\n",
      "\n",
      "Read more in the :ref:`User Guide <precision_recall_f_measure_metrics>`.\n",
      "\n",
      "Parameters\n",
      "----------\n",
      "y_true : 1d array-like, or label indicator array / sparse matrix\n",
      "    Ground truth (correct) target values.\n",
      "\n",
      "y_pred : 1d array-like, or label indicator array / sparse matrix\n",
      "    Estimated targets as returned by a classifier.\n",
      "\n",
      "labels : array-like, default=None\n",
      "    The set of labels to include when ``average != 'binary'``, and their\n",
      "    order if ``average is None``. Labels present in the data can be\n",
      "    excluded, for example to calculate a multiclass average ignoring a\n",
      "    majority negative class, while labels not present in the data will\n",
      "    result in 0 components in a macro average. For multilabel targets,\n",
      "    labels are column indices. By default, all labels in ``y_true`` and\n",
      "    ``y_pred`` are used in sorted order.\n",
      "\n",
      "    .. versionchanged:: 0.17\n",
      "       Parameter `labels` improved for multiclass problem.\n",
      "\n",
      "pos_label : str or int, default=1\n",
      "    The class to report if ``average='binary'`` and the data is binary.\n",
      "    If the data are multiclass or multilabel, this will be ignored;\n",
      "    setting ``labels=[pos_label]`` and ``average != 'binary'`` will report\n",
      "    scores for that label only.\n",
      "\n",
      "average : {'micro', 'macro', 'samples', 'weighted', 'binary'}             default='binary'\n",
      "    This parameter is required for multiclass/multilabel targets.\n",
      "    If ``None``, the scores for each class are returned. Otherwise, this\n",
      "    determines the type of averaging performed on the data:\n",
      "\n",
      "    ``'binary'``:\n",
      "        Only report results for the class specified by ``pos_label``.\n",
      "        This is applicable only if targets (``y_{true,pred}``) are binary.\n",
      "    ``'micro'``:\n",
      "        Calculate metrics globally by counting the total true positives,\n",
      "        false negatives and false positives.\n",
      "    ``'macro'``:\n",
      "        Calculate metrics for each label, and find their unweighted\n",
      "        mean.  This does not take label imbalance into account.\n",
      "    ``'weighted'``:\n",
      "        Calculate metrics for each label, and find their average weighted\n",
      "        by support (the number of true instances for each label). This\n",
      "        alters 'macro' to account for label imbalance; it can result in an\n",
      "        F-score that is not between precision and recall.\n",
      "    ``'samples'``:\n",
      "        Calculate metrics for each instance, and find their average (only\n",
      "        meaningful for multilabel classification where this differs from\n",
      "        :func:`accuracy_score`).\n",
      "\n",
      "sample_weight : array-like of shape (n_samples,), default=None\n",
      "    Sample weights.\n",
      "\n",
      "zero_division : \"warn\", 0 or 1, default=\"warn\"\n",
      "    Sets the value to return when there is a zero division. If set to\n",
      "    \"warn\", this acts as 0, but warnings are also raised.\n",
      "\n",
      "Returns\n",
      "-------\n",
      "precision : float (if average is not None) or array of float of shape\n",
      "    (n_unique_labels,)\n",
      "    Precision of the positive class in binary classification or weighted\n",
      "    average of the precision of each class for the multiclass task.\n",
      "\n",
      "See Also\n",
      "--------\n",
      "precision_recall_fscore_support, multilabel_confusion_matrix\n",
      "\n",
      "Notes\n",
      "-----\n",
      "When ``true positive + false positive == 0``, precision returns 0 and\n",
      "raises ``UndefinedMetricWarning``. This behavior can be\n",
      "modified with ``zero_division``.\n",
      "\n",
      "Examples\n",
      "--------\n",
      ">>> from sklearn.metrics import precision_score\n",
      ">>> y_true = [0, 1, 2, 0, 1, 2]\n",
      ">>> y_pred = [0, 2, 1, 0, 0, 1]\n",
      ">>> precision_score(y_true, y_pred, average='macro')\n",
      "0.22...\n",
      ">>> precision_score(y_true, y_pred, average='micro')\n",
      "0.33...\n",
      ">>> precision_score(y_true, y_pred, average='weighted')\n",
      "0.22...\n",
      ">>> precision_score(y_true, y_pred, average=None)\n",
      "array([0.66..., 0.        , 0.        ])\n",
      ">>> y_pred = [0, 0, 0, 0, 0, 0]\n",
      ">>> precision_score(y_true, y_pred, average=None)\n",
      "array([0.33..., 0.        , 0.        ])\n",
      ">>> precision_score(y_true, y_pred, average=None, zero_division=1)\n",
      "array([0.33..., 1.        , 1.        ])\n",
      "\u001b[0;31mFile:\u001b[0m      ~/Projects/udacity/disaster-response-classifier/.venv/lib/python3.6/site-packages/sklearn/metrics/_classification.py\n",
      "\u001b[0;31mType:\u001b[0m      function\n"
     ],
     "name": "stdout"
    }
   ],
   "source": [
    "precision_score?"
   ]
  },
  {
   "cell_type": "code",
   "execution_count": 88,
   "metadata": {},
   "outputs": [
    {
     "output_type": "stream",
     "name": "stderr",
     "text": [
      "/home/guischmitd/Projects/udacity/disaster-response-classifier/.venv/lib/python3.6/site-packages/sklearn/metrics/_classification.py:1248: UndefinedMetricWarning: Precision is ill-defined and being set to 0.0 due to no predicted samples. Use `zero_division` parameter to control this behavior.\n",
      "  _warn_prf(average, modifier, msg_start, len(result))\n",
      "/home/guischmitd/Projects/udacity/disaster-response-classifier/.venv/lib/python3.6/site-packages/sklearn/metrics/_classification.py:1248: UndefinedMetricWarning: Precision is ill-defined and being set to 0.0 due to no predicted samples. Use `zero_division` parameter to control this behavior.\n",
      "  _warn_prf(average, modifier, msg_start, len(result))\n",
      "/home/guischmitd/Projects/udacity/disaster-response-classifier/.venv/lib/python3.6/site-packages/sklearn/metrics/_classification.py:1248: UndefinedMetricWarning: Recall is ill-defined and being set to 0.0 due to no true samples. Use `zero_division` parameter to control this behavior.\n",
      "  _warn_prf(average, modifier, msg_start, len(result))\n",
      "/home/guischmitd/Projects/udacity/disaster-response-classifier/.venv/lib/python3.6/site-packages/sklearn/metrics/_classification.py:1496: UndefinedMetricWarning: F-score is ill-defined and being set to 0.0 due to no true nor predicted samples. Use `zero_division` parameter to control this behavior.\n",
      "  average, \"true nor predicted\", 'F-score is', len(true_sum)\n",
      "/home/guischmitd/Projects/udacity/disaster-response-classifier/.venv/lib/python3.6/site-packages/sklearn/metrics/_classification.py:1248: UndefinedMetricWarning: Precision is ill-defined and being set to 0.0 due to no predicted samples. Use `zero_division` parameter to control this behavior.\n",
      "  _warn_prf(average, modifier, msg_start, len(result))\n",
      "/home/guischmitd/Projects/udacity/disaster-response-classifier/.venv/lib/python3.6/site-packages/sklearn/metrics/_classification.py:1248: UndefinedMetricWarning: Precision is ill-defined and being set to 0.0 due to no predicted samples. Use `zero_division` parameter to control this behavior.\n",
      "  _warn_prf(average, modifier, msg_start, len(result))\n",
      "/home/guischmitd/Projects/udacity/disaster-response-classifier/.venv/lib/python3.6/site-packages/sklearn/metrics/_classification.py:1248: UndefinedMetricWarning: Precision is ill-defined and being set to 0.0 due to no predicted samples. Use `zero_division` parameter to control this behavior.\n",
      "  _warn_prf(average, modifier, msg_start, len(result))\n",
      "/home/guischmitd/Projects/udacity/disaster-response-classifier/.venv/lib/python3.6/site-packages/sklearn/metrics/_classification.py:1248: UndefinedMetricWarning: Precision is ill-defined and being set to 0.0 due to no predicted samples. Use `zero_division` parameter to control this behavior.\n",
      "  _warn_prf(average, modifier, msg_start, len(result))\n",
      "/home/guischmitd/Projects/udacity/disaster-response-classifier/.venv/lib/python3.6/site-packages/sklearn/metrics/_classification.py:1248: UndefinedMetricWarning: Precision is ill-defined and being set to 0.0 due to no predicted samples. Use `zero_division` parameter to control this behavior.\n",
      "  _warn_prf(average, modifier, msg_start, len(result))\n"
     ]
    }
   ],
   "source": [
    "def eval_metrics_per_category(y_test, y_pred, metrics=[precision_score, recall_score, f1_score, accuracy_score]):\n",
    "    results = {}\n",
    "    for i, col in enumerate(y_test.columns):\n",
    "        results[col] = {}\n",
    "        for metric in metrics:\n",
    "            results[col].update({metric.__name__ : metric(y_test[col], y_pred[:, i])})\n",
    "    return pd.DataFrame(results).T\n",
    "\n",
    "res = eval_metrics_per_category(y_test, y_pred)"
   ]
  },
  {
   "cell_type": "code",
   "execution_count": 93,
   "metadata": {},
   "outputs": [
    {
     "output_type": "execute_result",
     "data": {
      "text/plain": [
       "<AxesSubplot:>"
      ]
     },
     "metadata": {},
     "execution_count": 93
    },
    {
     "output_type": "display_data",
     "data": {
      "text/plain": "<Figure size 1440x720 with 1 Axes>",
      "image/svg+xml": "<?xml version=\"1.0\" encoding=\"utf-8\" standalone=\"no\"?>\n<!DOCTYPE svg PUBLIC \"-//W3C//DTD SVG 1.1//EN\"\n  \"http://www.w3.org/Graphics/SVG/1.1/DTD/svg11.dtd\">\n<!-- Created with matplotlib (https://matplotlib.org/) -->\n<svg height=\"673.615625pt\" version=\"1.1\" viewBox=\"0 0 1153.303125 673.615625\" width=\"1153.303125pt\" xmlns=\"http://www.w3.org/2000/svg\" xmlns:xlink=\"http://www.w3.org/1999/xlink\">\n <metadata>\n  <rdf:RDF xmlns:cc=\"http://creativecommons.org/ns#\" xmlns:dc=\"http://purl.org/dc/elements/1.1/\" xmlns:rdf=\"http://www.w3.org/1999/02/22-rdf-syntax-ns#\">\n   <cc:Work>\n    <dc:type rdf:resource=\"http://purl.org/dc/dcmitype/StillImage\"/>\n    <dc:date>2021-06-03T14:02:17.116974</dc:date>\n    <dc:format>image/svg+xml</dc:format>\n    <dc:creator>\n     <cc:Agent>\n      <dc:title>Matplotlib v3.3.4, https://matplotlib.org/</dc:title>\n     </cc:Agent>\n    </dc:creator>\n   </cc:Work>\n  </rdf:RDF>\n </metadata>\n <defs>\n  <style type=\"text/css\">*{stroke-linecap:butt;stroke-linejoin:round;}</style>\n </defs>\n <g id=\"figure_1\">\n  <g id=\"patch_1\">\n   <path d=\"M 0 673.615625 \nL 1153.303125 673.615625 \nL 1153.303125 0 \nL 0 0 \nz\n\" style=\"fill:none;\"/>\n  </g>\n  <g id=\"axes_1\">\n   <g id=\"patch_2\">\n    <path d=\"M 30.103125 550.8 \nL 1146.103125 550.8 \nL 1146.103125 7.2 \nL 30.103125 7.2 \nz\n\" style=\"fill:#ffffff;\"/>\n   </g>\n   <g id=\"patch_3\">\n    <path clip-path=\"url(#p54f0c6bcdb)\" d=\"M 37.853125 550.8 \nL 53.353125 550.8 \nL 53.353125 550.8 \nL 37.853125 550.8 \nz\n\" style=\"fill:#1f77b4;\"/>\n   </g>\n   <g id=\"patch_4\">\n    <path clip-path=\"url(#p54f0c6bcdb)\" d=\"M 68.853125 550.8 \nL 84.353125 550.8 \nL 84.353125 550.8 \nL 68.853125 550.8 \nz\n\" style=\"fill:#1f77b4;\"/>\n   </g>\n   <g id=\"patch_5\">\n    <path clip-path=\"url(#p54f0c6bcdb)\" d=\"M 99.853125 550.8 \nL 115.353125 550.8 \nL 115.353125 550.8 \nL 99.853125 550.8 \nz\n\" style=\"fill:#1f77b4;\"/>\n   </g>\n   <g id=\"patch_6\">\n    <path clip-path=\"url(#p54f0c6bcdb)\" d=\"M 130.853125 550.8 \nL 146.353125 550.8 \nL 146.353125 550.8 \nL 130.853125 550.8 \nz\n\" style=\"fill:#1f77b4;\"/>\n   </g>\n   <g id=\"patch_7\">\n    <path clip-path=\"url(#p54f0c6bcdb)\" d=\"M 161.853125 550.8 \nL 177.353125 550.8 \nL 177.353125 550.8 \nL 161.853125 550.8 \nz\n\" style=\"fill:#1f77b4;\"/>\n   </g>\n   <g id=\"patch_8\">\n    <path clip-path=\"url(#p54f0c6bcdb)\" d=\"M 192.853125 550.8 \nL 208.353125 550.8 \nL 208.353125 550.8 \nL 192.853125 550.8 \nz\n\" style=\"fill:#1f77b4;\"/>\n   </g>\n   <g id=\"patch_9\">\n    <path clip-path=\"url(#p54f0c6bcdb)\" d=\"M 223.853125 550.8 \nL 239.353125 550.8 \nL 239.353125 550.8 \nL 223.853125 550.8 \nz\n\" style=\"fill:#1f77b4;\"/>\n   </g>\n   <g id=\"patch_10\">\n    <path clip-path=\"url(#p54f0c6bcdb)\" d=\"M 254.853125 550.8 \nL 270.353125 550.8 \nL 270.353125 550.8 \nL 254.853125 550.8 \nz\n\" style=\"fill:#1f77b4;\"/>\n   </g>\n   <g id=\"patch_11\">\n    <path clip-path=\"url(#p54f0c6bcdb)\" d=\"M 285.853125 550.8 \nL 301.353125 550.8 \nL 301.353125 548.504755 \nL 285.853125 548.504755 \nz\n\" style=\"fill:#1f77b4;\"/>\n   </g>\n   <g id=\"patch_12\">\n    <path clip-path=\"url(#p54f0c6bcdb)\" d=\"M 316.853125 550.8 \nL 332.353125 550.8 \nL 332.353125 547.531211 \nL 316.853125 547.531211 \nz\n\" style=\"fill:#1f77b4;\"/>\n   </g>\n   <g id=\"patch_13\">\n    <path clip-path=\"url(#p54f0c6bcdb)\" d=\"M 347.853125 550.8 \nL 363.353125 550.8 \nL 363.353125 537.965194 \nL 347.853125 537.965194 \nz\n\" style=\"fill:#1f77b4;\"/>\n   </g>\n   <g id=\"patch_14\">\n    <path clip-path=\"url(#p54f0c6bcdb)\" d=\"M 378.853125 550.8 \nL 394.353125 550.8 \nL 394.353125 525.224416 \nL 378.853125 525.224416 \nz\n\" style=\"fill:#1f77b4;\"/>\n   </g>\n   <g id=\"patch_15\">\n    <path clip-path=\"url(#p54f0c6bcdb)\" d=\"M 409.853125 550.8 \nL 425.353125 550.8 \nL 425.353125 524.048527 \nL 409.853125 524.048527 \nz\n\" style=\"fill:#1f77b4;\"/>\n   </g>\n   <g id=\"patch_16\">\n    <path clip-path=\"url(#p54f0c6bcdb)\" d=\"M 440.853125 550.8 \nL 456.353125 550.8 \nL 456.353125 517.865404 \nL 440.853125 517.865404 \nz\n\" style=\"fill:#1f77b4;\"/>\n   </g>\n   <g id=\"patch_17\">\n    <path clip-path=\"url(#p54f0c6bcdb)\" d=\"M 471.853125 550.8 \nL 487.353125 550.8 \nL 487.353125 506.126544 \nL 471.853125 506.126544 \nz\n\" style=\"fill:#1f77b4;\"/>\n   </g>\n   <g id=\"patch_18\">\n    <path clip-path=\"url(#p54f0c6bcdb)\" d=\"M 502.853125 550.8 \nL 518.353125 550.8 \nL 518.353125 489.304237 \nL 502.853125 489.304237 \nz\n\" style=\"fill:#1f77b4;\"/>\n   </g>\n   <g id=\"patch_19\">\n    <path clip-path=\"url(#p54f0c6bcdb)\" d=\"M 533.853125 550.8 \nL 549.353125 550.8 \nL 549.353125 479.735019 \nL 533.853125 479.735019 \nz\n\" style=\"fill:#1f77b4;\"/>\n   </g>\n   <g id=\"patch_20\">\n    <path clip-path=\"url(#p54f0c6bcdb)\" d=\"M 564.853125 550.8 \nL 580.353125 550.8 \nL 580.353125 478.521177 \nL 564.853125 478.521177 \nz\n\" style=\"fill:#1f77b4;\"/>\n   </g>\n   <g id=\"patch_21\">\n    <path clip-path=\"url(#p54f0c6bcdb)\" d=\"M 595.853125 550.8 \nL 611.353125 550.8 \nL 611.353125 471.784076 \nL 595.853125 471.784076 \nz\n\" style=\"fill:#1f77b4;\"/>\n   </g>\n   <g id=\"patch_22\">\n    <path clip-path=\"url(#p54f0c6bcdb)\" d=\"M 626.853125 550.8 \nL 642.353125 550.8 \nL 642.353125 462.044055 \nL 626.853125 462.044055 \nz\n\" style=\"fill:#1f77b4;\"/>\n   </g>\n   <g id=\"patch_23\">\n    <path clip-path=\"url(#p54f0c6bcdb)\" d=\"M 657.853125 550.8 \nL 673.353125 550.8 \nL 673.353125 451.292147 \nL 657.853125 451.292147 \nz\n\" style=\"fill:#1f77b4;\"/>\n   </g>\n   <g id=\"patch_24\">\n    <path clip-path=\"url(#p54f0c6bcdb)\" d=\"M 688.853125 550.8 \nL 704.353125 550.8 \nL 704.353125 446.469257 \nL 688.853125 446.469257 \nz\n\" style=\"fill:#1f77b4;\"/>\n   </g>\n   <g id=\"patch_25\">\n    <path clip-path=\"url(#p54f0c6bcdb)\" d=\"M 719.853125 550.8 \nL 735.353125 550.8 \nL 735.353125 437.520534 \nL 719.853125 437.520534 \nz\n\" style=\"fill:#1f77b4;\"/>\n   </g>\n   <g id=\"patch_26\">\n    <path clip-path=\"url(#p54f0c6bcdb)\" d=\"M 750.853125 550.8 \nL 766.353125 550.8 \nL 766.353125 409.4949 \nL 750.853125 409.4949 \nz\n\" style=\"fill:#1f77b4;\"/>\n   </g>\n   <g id=\"patch_27\">\n    <path clip-path=\"url(#p54f0c6bcdb)\" d=\"M 781.853125 550.8 \nL 797.353125 550.8 \nL 797.353125 378.891389 \nL 781.853125 378.891389 \nz\n\" style=\"fill:#1f77b4;\"/>\n   </g>\n   <g id=\"patch_28\">\n    <path clip-path=\"url(#p54f0c6bcdb)\" d=\"M 812.853125 550.8 \nL 828.353125 550.8 \nL 828.353125 265.908701 \nL 812.853125 265.908701 \nz\n\" style=\"fill:#1f77b4;\"/>\n   </g>\n   <g id=\"patch_29\">\n    <path clip-path=\"url(#p54f0c6bcdb)\" d=\"M 843.853125 550.8 \nL 859.353125 550.8 \nL 859.353125 253.808785 \nL 843.853125 253.808785 \nz\n\" style=\"fill:#1f77b4;\"/>\n   </g>\n   <g id=\"patch_30\">\n    <path clip-path=\"url(#p54f0c6bcdb)\" d=\"M 874.853125 550.8 \nL 890.353125 550.8 \nL 890.353125 241.826282 \nL 874.853125 241.826282 \nz\n\" style=\"fill:#1f77b4;\"/>\n   </g>\n   <g id=\"patch_31\">\n    <path clip-path=\"url(#p54f0c6bcdb)\" d=\"M 905.853125 550.8 \nL 921.353125 550.8 \nL 921.353125 187.430168 \nL 905.853125 187.430168 \nz\n\" style=\"fill:#1f77b4;\"/>\n   </g>\n   <g id=\"patch_32\">\n    <path clip-path=\"url(#p54f0c6bcdb)\" d=\"M 936.853125 550.8 \nL 952.353125 550.8 \nL 952.353125 185.542819 \nL 936.853125 185.542819 \nz\n\" style=\"fill:#1f77b4;\"/>\n   </g>\n   <g id=\"patch_33\">\n    <path clip-path=\"url(#p54f0c6bcdb)\" d=\"M 967.853125 550.8 \nL 983.353125 550.8 \nL 983.353125 184.674906 \nL 967.853125 184.674906 \nz\n\" style=\"fill:#1f77b4;\"/>\n   </g>\n   <g id=\"patch_34\">\n    <path clip-path=\"url(#p54f0c6bcdb)\" d=\"M 998.853125 550.8 \nL 1014.353125 550.8 \nL 1014.353125 153.5001 \nL 998.853125 153.5001 \nz\n\" style=\"fill:#1f77b4;\"/>\n   </g>\n   <g id=\"patch_35\">\n    <path clip-path=\"url(#p54f0c6bcdb)\" d=\"M 1029.853125 550.8 \nL 1045.353125 550.8 \nL 1045.353125 127.144159 \nL 1029.853125 127.144159 \nz\n\" style=\"fill:#1f77b4;\"/>\n   </g>\n   <g id=\"patch_36\">\n    <path clip-path=\"url(#p54f0c6bcdb)\" d=\"M 1060.853125 550.8 \nL 1076.353125 550.8 \nL 1076.353125 105.714424 \nL 1060.853125 105.714424 \nz\n\" style=\"fill:#1f77b4;\"/>\n   </g>\n   <g id=\"patch_37\">\n    <path clip-path=\"url(#p54f0c6bcdb)\" d=\"M 1091.853125 550.8 \nL 1107.353125 550.8 \nL 1107.353125 59.828303 \nL 1091.853125 59.828303 \nz\n\" style=\"fill:#1f77b4;\"/>\n   </g>\n   <g id=\"patch_38\">\n    <path clip-path=\"url(#p54f0c6bcdb)\" d=\"M 1122.853125 550.8 \nL 1138.353125 550.8 \nL 1138.353125 33.085714 \nL 1122.853125 33.085714 \nz\n\" style=\"fill:#1f77b4;\"/>\n   </g>\n   <g id=\"matplotlib.axis_1\">\n    <g id=\"xtick_1\">\n     <g id=\"line2d_1\">\n      <defs>\n       <path d=\"M 0 0 \nL 0 3.5 \n\" id=\"m716ec7a5b4\" style=\"stroke:#000000;stroke-width:0.8;\"/>\n      </defs>\n      <g>\n       <use style=\"stroke:#000000;stroke-width:0.8;\" x=\"45.603125\" xlink:href=\"#m716ec7a5b4\" y=\"550.8\"/>\n      </g>\n     </g>\n     <g id=\"text_1\">\n      <!-- shops -->\n      <g transform=\"translate(48.3625 587.023438)rotate(-90)scale(0.1 -0.1)\">\n       <defs>\n        <path d=\"M 44.28125 53.078125 \nL 44.28125 44.578125 \nQ 40.484375 46.53125 36.375 47.5 \nQ 32.28125 48.484375 27.875 48.484375 \nQ 21.1875 48.484375 17.84375 46.4375 \nQ 14.5 44.390625 14.5 40.28125 \nQ 14.5 37.15625 16.890625 35.375 \nQ 19.28125 33.59375 26.515625 31.984375 \nL 29.59375 31.296875 \nQ 39.15625 29.25 43.1875 25.515625 \nQ 47.21875 21.78125 47.21875 15.09375 \nQ 47.21875 7.46875 41.1875 3.015625 \nQ 35.15625 -1.421875 24.609375 -1.421875 \nQ 20.21875 -1.421875 15.453125 -0.5625 \nQ 10.6875 0.296875 5.421875 2 \nL 5.421875 11.28125 \nQ 10.40625 8.6875 15.234375 7.390625 \nQ 20.0625 6.109375 24.8125 6.109375 \nQ 31.15625 6.109375 34.5625 8.28125 \nQ 37.984375 10.453125 37.984375 14.40625 \nQ 37.984375 18.0625 35.515625 20.015625 \nQ 33.0625 21.96875 24.703125 23.78125 \nL 21.578125 24.515625 \nQ 13.234375 26.265625 9.515625 29.90625 \nQ 5.8125 33.546875 5.8125 39.890625 \nQ 5.8125 47.609375 11.28125 51.796875 \nQ 16.75 56 26.8125 56 \nQ 31.78125 56 36.171875 55.265625 \nQ 40.578125 54.546875 44.28125 53.078125 \nz\n\" id=\"DejaVuSans-115\"/>\n        <path d=\"M 54.890625 33.015625 \nL 54.890625 0 \nL 45.90625 0 \nL 45.90625 32.71875 \nQ 45.90625 40.484375 42.875 44.328125 \nQ 39.84375 48.1875 33.796875 48.1875 \nQ 26.515625 48.1875 22.3125 43.546875 \nQ 18.109375 38.921875 18.109375 30.90625 \nL 18.109375 0 \nL 9.078125 0 \nL 9.078125 75.984375 \nL 18.109375 75.984375 \nL 18.109375 46.1875 \nQ 21.34375 51.125 25.703125 53.5625 \nQ 30.078125 56 35.796875 56 \nQ 45.21875 56 50.046875 50.171875 \nQ 54.890625 44.34375 54.890625 33.015625 \nz\n\" id=\"DejaVuSans-104\"/>\n        <path d=\"M 30.609375 48.390625 \nQ 23.390625 48.390625 19.1875 42.75 \nQ 14.984375 37.109375 14.984375 27.296875 \nQ 14.984375 17.484375 19.15625 11.84375 \nQ 23.34375 6.203125 30.609375 6.203125 \nQ 37.796875 6.203125 41.984375 11.859375 \nQ 46.1875 17.53125 46.1875 27.296875 \nQ 46.1875 37.015625 41.984375 42.703125 \nQ 37.796875 48.390625 30.609375 48.390625 \nz\nM 30.609375 56 \nQ 42.328125 56 49.015625 48.375 \nQ 55.71875 40.765625 55.71875 27.296875 \nQ 55.71875 13.875 49.015625 6.21875 \nQ 42.328125 -1.421875 30.609375 -1.421875 \nQ 18.84375 -1.421875 12.171875 6.21875 \nQ 5.515625 13.875 5.515625 27.296875 \nQ 5.515625 40.765625 12.171875 48.375 \nQ 18.84375 56 30.609375 56 \nz\n\" id=\"DejaVuSans-111\"/>\n        <path d=\"M 18.109375 8.203125 \nL 18.109375 -20.796875 \nL 9.078125 -20.796875 \nL 9.078125 54.6875 \nL 18.109375 54.6875 \nL 18.109375 46.390625 \nQ 20.953125 51.265625 25.265625 53.625 \nQ 29.59375 56 35.59375 56 \nQ 45.5625 56 51.78125 48.09375 \nQ 58.015625 40.1875 58.015625 27.296875 \nQ 58.015625 14.40625 51.78125 6.484375 \nQ 45.5625 -1.421875 35.59375 -1.421875 \nQ 29.59375 -1.421875 25.265625 0.953125 \nQ 20.953125 3.328125 18.109375 8.203125 \nz\nM 48.6875 27.296875 \nQ 48.6875 37.203125 44.609375 42.84375 \nQ 40.53125 48.484375 33.40625 48.484375 \nQ 26.265625 48.484375 22.1875 42.84375 \nQ 18.109375 37.203125 18.109375 27.296875 \nQ 18.109375 17.390625 22.1875 11.75 \nQ 26.265625 6.109375 33.40625 6.109375 \nQ 40.53125 6.109375 44.609375 11.75 \nQ 48.6875 17.390625 48.6875 27.296875 \nz\n\" id=\"DejaVuSans-112\"/>\n       </defs>\n       <use xlink:href=\"#DejaVuSans-115\"/>\n       <use x=\"52.099609\" xlink:href=\"#DejaVuSans-104\"/>\n       <use x=\"115.478516\" xlink:href=\"#DejaVuSans-111\"/>\n       <use x=\"176.660156\" xlink:href=\"#DejaVuSans-112\"/>\n       <use x=\"240.136719\" xlink:href=\"#DejaVuSans-115\"/>\n      </g>\n     </g>\n    </g>\n    <g id=\"xtick_2\">\n     <g id=\"line2d_2\">\n      <g>\n       <use style=\"stroke:#000000;stroke-width:0.8;\" x=\"76.603125\" xlink:href=\"#m716ec7a5b4\" y=\"550.8\"/>\n      </g>\n     </g>\n     <g id=\"text_2\">\n      <!-- hospitals -->\n      <g transform=\"translate(79.3625 602.628125)rotate(-90)scale(0.1 -0.1)\">\n       <defs>\n        <path d=\"M 9.421875 54.6875 \nL 18.40625 54.6875 \nL 18.40625 0 \nL 9.421875 0 \nz\nM 9.421875 75.984375 \nL 18.40625 75.984375 \nL 18.40625 64.59375 \nL 9.421875 64.59375 \nz\n\" id=\"DejaVuSans-105\"/>\n        <path d=\"M 18.3125 70.21875 \nL 18.3125 54.6875 \nL 36.8125 54.6875 \nL 36.8125 47.703125 \nL 18.3125 47.703125 \nL 18.3125 18.015625 \nQ 18.3125 11.328125 20.140625 9.421875 \nQ 21.96875 7.515625 27.59375 7.515625 \nL 36.8125 7.515625 \nL 36.8125 0 \nL 27.59375 0 \nQ 17.1875 0 13.234375 3.875 \nQ 9.28125 7.765625 9.28125 18.015625 \nL 9.28125 47.703125 \nL 2.6875 47.703125 \nL 2.6875 54.6875 \nL 9.28125 54.6875 \nL 9.28125 70.21875 \nz\n\" id=\"DejaVuSans-116\"/>\n        <path d=\"M 34.28125 27.484375 \nQ 23.390625 27.484375 19.1875 25 \nQ 14.984375 22.515625 14.984375 16.5 \nQ 14.984375 11.71875 18.140625 8.90625 \nQ 21.296875 6.109375 26.703125 6.109375 \nQ 34.1875 6.109375 38.703125 11.40625 \nQ 43.21875 16.703125 43.21875 25.484375 \nL 43.21875 27.484375 \nz\nM 52.203125 31.203125 \nL 52.203125 0 \nL 43.21875 0 \nL 43.21875 8.296875 \nQ 40.140625 3.328125 35.546875 0.953125 \nQ 30.953125 -1.421875 24.3125 -1.421875 \nQ 15.921875 -1.421875 10.953125 3.296875 \nQ 6 8.015625 6 15.921875 \nQ 6 25.140625 12.171875 29.828125 \nQ 18.359375 34.515625 30.609375 34.515625 \nL 43.21875 34.515625 \nL 43.21875 35.40625 \nQ 43.21875 41.609375 39.140625 45 \nQ 35.0625 48.390625 27.6875 48.390625 \nQ 23 48.390625 18.546875 47.265625 \nQ 14.109375 46.140625 10.015625 43.890625 \nL 10.015625 52.203125 \nQ 14.9375 54.109375 19.578125 55.046875 \nQ 24.21875 56 28.609375 56 \nQ 40.484375 56 46.34375 49.84375 \nQ 52.203125 43.703125 52.203125 31.203125 \nz\n\" id=\"DejaVuSans-97\"/>\n        <path d=\"M 9.421875 75.984375 \nL 18.40625 75.984375 \nL 18.40625 0 \nL 9.421875 0 \nz\n\" id=\"DejaVuSans-108\"/>\n       </defs>\n       <use xlink:href=\"#DejaVuSans-104\"/>\n       <use x=\"63.378906\" xlink:href=\"#DejaVuSans-111\"/>\n       <use x=\"124.560547\" xlink:href=\"#DejaVuSans-115\"/>\n       <use x=\"176.660156\" xlink:href=\"#DejaVuSans-112\"/>\n       <use x=\"240.136719\" xlink:href=\"#DejaVuSans-105\"/>\n       <use x=\"267.919922\" xlink:href=\"#DejaVuSans-116\"/>\n       <use x=\"307.128906\" xlink:href=\"#DejaVuSans-97\"/>\n       <use x=\"368.408203\" xlink:href=\"#DejaVuSans-108\"/>\n       <use x=\"396.191406\" xlink:href=\"#DejaVuSans-115\"/>\n      </g>\n     </g>\n    </g>\n    <g id=\"xtick_3\">\n     <g id=\"line2d_3\">\n      <g>\n       <use style=\"stroke:#000000;stroke-width:0.8;\" x=\"107.603125\" xlink:href=\"#m716ec7a5b4\" y=\"550.8\"/>\n      </g>\n     </g>\n     <g id=\"text_3\">\n      <!-- child_alone -->\n      <g transform=\"translate(110.223437 614.05625)rotate(-90)scale(0.1 -0.1)\">\n       <defs>\n        <path d=\"M 48.78125 52.59375 \nL 48.78125 44.1875 \nQ 44.96875 46.296875 41.140625 47.34375 \nQ 37.3125 48.390625 33.40625 48.390625 \nQ 24.65625 48.390625 19.8125 42.84375 \nQ 14.984375 37.3125 14.984375 27.296875 \nQ 14.984375 17.28125 19.8125 11.734375 \nQ 24.65625 6.203125 33.40625 6.203125 \nQ 37.3125 6.203125 41.140625 7.25 \nQ 44.96875 8.296875 48.78125 10.40625 \nL 48.78125 2.09375 \nQ 45.015625 0.34375 40.984375 -0.53125 \nQ 36.96875 -1.421875 32.421875 -1.421875 \nQ 20.0625 -1.421875 12.78125 6.34375 \nQ 5.515625 14.109375 5.515625 27.296875 \nQ 5.515625 40.671875 12.859375 48.328125 \nQ 20.21875 56 33.015625 56 \nQ 37.15625 56 41.109375 55.140625 \nQ 45.0625 54.296875 48.78125 52.59375 \nz\n\" id=\"DejaVuSans-99\"/>\n        <path d=\"M 45.40625 46.390625 \nL 45.40625 75.984375 \nL 54.390625 75.984375 \nL 54.390625 0 \nL 45.40625 0 \nL 45.40625 8.203125 \nQ 42.578125 3.328125 38.25 0.953125 \nQ 33.9375 -1.421875 27.875 -1.421875 \nQ 17.96875 -1.421875 11.734375 6.484375 \nQ 5.515625 14.40625 5.515625 27.296875 \nQ 5.515625 40.1875 11.734375 48.09375 \nQ 17.96875 56 27.875 56 \nQ 33.9375 56 38.25 53.625 \nQ 42.578125 51.265625 45.40625 46.390625 \nz\nM 14.796875 27.296875 \nQ 14.796875 17.390625 18.875 11.75 \nQ 22.953125 6.109375 30.078125 6.109375 \nQ 37.203125 6.109375 41.296875 11.75 \nQ 45.40625 17.390625 45.40625 27.296875 \nQ 45.40625 37.203125 41.296875 42.84375 \nQ 37.203125 48.484375 30.078125 48.484375 \nQ 22.953125 48.484375 18.875 42.84375 \nQ 14.796875 37.203125 14.796875 27.296875 \nz\n\" id=\"DejaVuSans-100\"/>\n        <path d=\"M 50.984375 -16.609375 \nL 50.984375 -23.578125 \nL -0.984375 -23.578125 \nL -0.984375 -16.609375 \nz\n\" id=\"DejaVuSans-95\"/>\n        <path d=\"M 54.890625 33.015625 \nL 54.890625 0 \nL 45.90625 0 \nL 45.90625 32.71875 \nQ 45.90625 40.484375 42.875 44.328125 \nQ 39.84375 48.1875 33.796875 48.1875 \nQ 26.515625 48.1875 22.3125 43.546875 \nQ 18.109375 38.921875 18.109375 30.90625 \nL 18.109375 0 \nL 9.078125 0 \nL 9.078125 54.6875 \nL 18.109375 54.6875 \nL 18.109375 46.1875 \nQ 21.34375 51.125 25.703125 53.5625 \nQ 30.078125 56 35.796875 56 \nQ 45.21875 56 50.046875 50.171875 \nQ 54.890625 44.34375 54.890625 33.015625 \nz\n\" id=\"DejaVuSans-110\"/>\n        <path d=\"M 56.203125 29.59375 \nL 56.203125 25.203125 \nL 14.890625 25.203125 \nQ 15.484375 15.921875 20.484375 11.0625 \nQ 25.484375 6.203125 34.421875 6.203125 \nQ 39.59375 6.203125 44.453125 7.46875 \nQ 49.3125 8.734375 54.109375 11.28125 \nL 54.109375 2.78125 \nQ 49.265625 0.734375 44.1875 -0.34375 \nQ 39.109375 -1.421875 33.890625 -1.421875 \nQ 20.796875 -1.421875 13.15625 6.1875 \nQ 5.515625 13.8125 5.515625 26.8125 \nQ 5.515625 40.234375 12.765625 48.109375 \nQ 20.015625 56 32.328125 56 \nQ 43.359375 56 49.78125 48.890625 \nQ 56.203125 41.796875 56.203125 29.59375 \nz\nM 47.21875 32.234375 \nQ 47.125 39.59375 43.09375 43.984375 \nQ 39.0625 48.390625 32.421875 48.390625 \nQ 24.90625 48.390625 20.390625 44.140625 \nQ 15.875 39.890625 15.1875 32.171875 \nz\n\" id=\"DejaVuSans-101\"/>\n       </defs>\n       <use xlink:href=\"#DejaVuSans-99\"/>\n       <use x=\"54.980469\" xlink:href=\"#DejaVuSans-104\"/>\n       <use x=\"118.359375\" xlink:href=\"#DejaVuSans-105\"/>\n       <use x=\"146.142578\" xlink:href=\"#DejaVuSans-108\"/>\n       <use x=\"173.925781\" xlink:href=\"#DejaVuSans-100\"/>\n       <use x=\"237.402344\" xlink:href=\"#DejaVuSans-95\"/>\n       <use x=\"287.402344\" xlink:href=\"#DejaVuSans-97\"/>\n       <use x=\"348.681641\" xlink:href=\"#DejaVuSans-108\"/>\n       <use x=\"376.464844\" xlink:href=\"#DejaVuSans-111\"/>\n       <use x=\"437.646484\" xlink:href=\"#DejaVuSans-110\"/>\n       <use x=\"501.025391\" xlink:href=\"#DejaVuSans-101\"/>\n      </g>\n     </g>\n    </g>\n    <g id=\"xtick_4\">\n     <g id=\"line2d_4\">\n      <g>\n       <use style=\"stroke:#000000;stroke-width:0.8;\" x=\"138.603125\" xlink:href=\"#m716ec7a5b4\" y=\"550.8\"/>\n      </g>\n     </g>\n     <g id=\"text_4\">\n      <!-- security -->\n      <g transform=\"translate(141.3625 597.726562)rotate(-90)scale(0.1 -0.1)\">\n       <defs>\n        <path d=\"M 8.5 21.578125 \nL 8.5 54.6875 \nL 17.484375 54.6875 \nL 17.484375 21.921875 \nQ 17.484375 14.15625 20.5 10.265625 \nQ 23.53125 6.390625 29.59375 6.390625 \nQ 36.859375 6.390625 41.078125 11.03125 \nQ 45.3125 15.671875 45.3125 23.6875 \nL 45.3125 54.6875 \nL 54.296875 54.6875 \nL 54.296875 0 \nL 45.3125 0 \nL 45.3125 8.40625 \nQ 42.046875 3.421875 37.71875 1 \nQ 33.40625 -1.421875 27.6875 -1.421875 \nQ 18.265625 -1.421875 13.375 4.4375 \nQ 8.5 10.296875 8.5 21.578125 \nz\nM 31.109375 56 \nz\n\" id=\"DejaVuSans-117\"/>\n        <path d=\"M 41.109375 46.296875 \nQ 39.59375 47.171875 37.8125 47.578125 \nQ 36.03125 48 33.890625 48 \nQ 26.265625 48 22.1875 43.046875 \nQ 18.109375 38.09375 18.109375 28.8125 \nL 18.109375 0 \nL 9.078125 0 \nL 9.078125 54.6875 \nL 18.109375 54.6875 \nL 18.109375 46.1875 \nQ 20.953125 51.171875 25.484375 53.578125 \nQ 30.03125 56 36.53125 56 \nQ 37.453125 56 38.578125 55.875 \nQ 39.703125 55.765625 41.0625 55.515625 \nz\n\" id=\"DejaVuSans-114\"/>\n        <path d=\"M 32.171875 -5.078125 \nQ 28.375 -14.84375 24.75 -17.8125 \nQ 21.140625 -20.796875 15.09375 -20.796875 \nL 7.90625 -20.796875 \nL 7.90625 -13.28125 \nL 13.1875 -13.28125 \nQ 16.890625 -13.28125 18.9375 -11.515625 \nQ 21 -9.765625 23.484375 -3.21875 \nL 25.09375 0.875 \nL 2.984375 54.6875 \nL 12.5 54.6875 \nL 29.59375 11.921875 \nL 46.6875 54.6875 \nL 56.203125 54.6875 \nz\n\" id=\"DejaVuSans-121\"/>\n       </defs>\n       <use xlink:href=\"#DejaVuSans-115\"/>\n       <use x=\"52.099609\" xlink:href=\"#DejaVuSans-101\"/>\n       <use x=\"113.623047\" xlink:href=\"#DejaVuSans-99\"/>\n       <use x=\"168.603516\" xlink:href=\"#DejaVuSans-117\"/>\n       <use x=\"231.982422\" xlink:href=\"#DejaVuSans-114\"/>\n       <use x=\"273.095703\" xlink:href=\"#DejaVuSans-105\"/>\n       <use x=\"300.878906\" xlink:href=\"#DejaVuSans-116\"/>\n       <use x=\"340.087891\" xlink:href=\"#DejaVuSans-121\"/>\n      </g>\n     </g>\n    </g>\n    <g id=\"xtick_5\">\n     <g id=\"line2d_5\">\n      <g>\n       <use style=\"stroke:#000000;stroke-width:0.8;\" x=\"169.603125\" xlink:href=\"#m716ec7a5b4\" y=\"550.8\"/>\n      </g>\n     </g>\n     <g id=\"text_5\">\n      <!-- aid_centers -->\n      <g transform=\"translate(172.223437 615.4375)rotate(-90)scale(0.1 -0.1)\">\n       <use xlink:href=\"#DejaVuSans-97\"/>\n       <use x=\"61.279297\" xlink:href=\"#DejaVuSans-105\"/>\n       <use x=\"89.0625\" xlink:href=\"#DejaVuSans-100\"/>\n       <use x=\"152.539062\" xlink:href=\"#DejaVuSans-95\"/>\n       <use x=\"202.539062\" xlink:href=\"#DejaVuSans-99\"/>\n       <use x=\"257.519531\" xlink:href=\"#DejaVuSans-101\"/>\n       <use x=\"319.042969\" xlink:href=\"#DejaVuSans-110\"/>\n       <use x=\"382.421875\" xlink:href=\"#DejaVuSans-116\"/>\n       <use x=\"421.630859\" xlink:href=\"#DejaVuSans-101\"/>\n       <use x=\"483.154297\" xlink:href=\"#DejaVuSans-114\"/>\n       <use x=\"524.267578\" xlink:href=\"#DejaVuSans-115\"/>\n      </g>\n     </g>\n    </g>\n    <g id=\"xtick_6\">\n     <g id=\"line2d_6\">\n      <g>\n       <use style=\"stroke:#000000;stroke-width:0.8;\" x=\"200.603125\" xlink:href=\"#m716ec7a5b4\" y=\"550.8\"/>\n      </g>\n     </g>\n     <g id=\"text_6\">\n      <!-- tools -->\n      <g transform=\"translate(203.3625 581.945312)rotate(-90)scale(0.1 -0.1)\">\n       <use xlink:href=\"#DejaVuSans-116\"/>\n       <use x=\"39.208984\" xlink:href=\"#DejaVuSans-111\"/>\n       <use x=\"100.390625\" xlink:href=\"#DejaVuSans-111\"/>\n       <use x=\"161.572266\" xlink:href=\"#DejaVuSans-108\"/>\n       <use x=\"189.355469\" xlink:href=\"#DejaVuSans-115\"/>\n      </g>\n     </g>\n    </g>\n    <g id=\"xtick_7\">\n     <g id=\"line2d_7\">\n      <g>\n       <use style=\"stroke:#000000;stroke-width:0.8;\" x=\"231.603125\" xlink:href=\"#m716ec7a5b4\" y=\"550.8\"/>\n      </g>\n     </g>\n     <g id=\"text_7\">\n      <!-- fire -->\n      <g transform=\"translate(234.3625 574.1375)rotate(-90)scale(0.1 -0.1)\">\n       <defs>\n        <path d=\"M 37.109375 75.984375 \nL 37.109375 68.5 \nL 28.515625 68.5 \nQ 23.6875 68.5 21.796875 66.546875 \nQ 19.921875 64.59375 19.921875 59.515625 \nL 19.921875 54.6875 \nL 34.71875 54.6875 \nL 34.71875 47.703125 \nL 19.921875 47.703125 \nL 19.921875 0 \nL 10.890625 0 \nL 10.890625 47.703125 \nL 2.296875 47.703125 \nL 2.296875 54.6875 \nL 10.890625 54.6875 \nL 10.890625 58.5 \nQ 10.890625 67.625 15.140625 71.796875 \nQ 19.390625 75.984375 28.609375 75.984375 \nz\n\" id=\"DejaVuSans-102\"/>\n       </defs>\n       <use xlink:href=\"#DejaVuSans-102\"/>\n       <use x=\"35.205078\" xlink:href=\"#DejaVuSans-105\"/>\n       <use x=\"62.988281\" xlink:href=\"#DejaVuSans-114\"/>\n       <use x=\"101.851562\" xlink:href=\"#DejaVuSans-101\"/>\n      </g>\n     </g>\n    </g>\n    <g id=\"xtick_8\">\n     <g id=\"line2d_8\">\n      <g>\n       <use style=\"stroke:#000000;stroke-width:0.8;\" x=\"262.603125\" xlink:href=\"#m716ec7a5b4\" y=\"550.8\"/>\n      </g>\n     </g>\n     <g id=\"text_8\">\n      <!-- offer -->\n      <g transform=\"translate(265.3625 581.223438)rotate(-90)scale(0.1 -0.1)\">\n       <use xlink:href=\"#DejaVuSans-111\"/>\n       <use x=\"61.181641\" xlink:href=\"#DejaVuSans-102\"/>\n       <use x=\"96.386719\" xlink:href=\"#DejaVuSans-102\"/>\n       <use x=\"131.591797\" xlink:href=\"#DejaVuSans-101\"/>\n       <use x=\"193.115234\" xlink:href=\"#DejaVuSans-114\"/>\n      </g>\n     </g>\n    </g>\n    <g id=\"xtick_9\">\n     <g id=\"line2d_9\">\n      <g>\n       <use style=\"stroke:#000000;stroke-width:0.8;\" x=\"293.603125\" xlink:href=\"#m716ec7a5b4\" y=\"550.8\"/>\n      </g>\n     </g>\n     <g id=\"text_9\">\n      <!-- infrastructure_related -->\n      <g transform=\"translate(296.223437 666.415625)rotate(-90)scale(0.1 -0.1)\">\n       <use xlink:href=\"#DejaVuSans-105\"/>\n       <use x=\"27.783203\" xlink:href=\"#DejaVuSans-110\"/>\n       <use x=\"91.162109\" xlink:href=\"#DejaVuSans-102\"/>\n       <use x=\"126.367188\" xlink:href=\"#DejaVuSans-114\"/>\n       <use x=\"167.480469\" xlink:href=\"#DejaVuSans-97\"/>\n       <use x=\"228.759766\" xlink:href=\"#DejaVuSans-115\"/>\n       <use x=\"280.859375\" xlink:href=\"#DejaVuSans-116\"/>\n       <use x=\"320.068359\" xlink:href=\"#DejaVuSans-114\"/>\n       <use x=\"361.181641\" xlink:href=\"#DejaVuSans-117\"/>\n       <use x=\"424.560547\" xlink:href=\"#DejaVuSans-99\"/>\n       <use x=\"479.541016\" xlink:href=\"#DejaVuSans-116\"/>\n       <use x=\"518.75\" xlink:href=\"#DejaVuSans-117\"/>\n       <use x=\"582.128906\" xlink:href=\"#DejaVuSans-114\"/>\n       <use x=\"620.992188\" xlink:href=\"#DejaVuSans-101\"/>\n       <use x=\"682.515625\" xlink:href=\"#DejaVuSans-95\"/>\n       <use x=\"732.515625\" xlink:href=\"#DejaVuSans-114\"/>\n       <use x=\"771.378906\" xlink:href=\"#DejaVuSans-101\"/>\n       <use x=\"832.902344\" xlink:href=\"#DejaVuSans-108\"/>\n       <use x=\"860.685547\" xlink:href=\"#DejaVuSans-97\"/>\n       <use x=\"921.964844\" xlink:href=\"#DejaVuSans-116\"/>\n       <use x=\"961.173828\" xlink:href=\"#DejaVuSans-101\"/>\n       <use x=\"1022.697266\" xlink:href=\"#DejaVuSans-100\"/>\n      </g>\n     </g>\n    </g>\n    <g id=\"xtick_10\">\n     <g id=\"line2d_10\">\n      <g>\n       <use style=\"stroke:#000000;stroke-width:0.8;\" x=\"324.603125\" xlink:href=\"#m716ec7a5b4\" y=\"550.8\"/>\n      </g>\n     </g>\n     <g id=\"text_10\">\n      <!-- other_infrastructure -->\n      <g transform=\"translate(327.223437 657.689062)rotate(-90)scale(0.1 -0.1)\">\n       <use xlink:href=\"#DejaVuSans-111\"/>\n       <use x=\"61.181641\" xlink:href=\"#DejaVuSans-116\"/>\n       <use x=\"100.390625\" xlink:href=\"#DejaVuSans-104\"/>\n       <use x=\"163.769531\" xlink:href=\"#DejaVuSans-101\"/>\n       <use x=\"225.292969\" xlink:href=\"#DejaVuSans-114\"/>\n       <use x=\"266.40625\" xlink:href=\"#DejaVuSans-95\"/>\n       <use x=\"316.40625\" xlink:href=\"#DejaVuSans-105\"/>\n       <use x=\"344.189453\" xlink:href=\"#DejaVuSans-110\"/>\n       <use x=\"407.568359\" xlink:href=\"#DejaVuSans-102\"/>\n       <use x=\"442.773438\" xlink:href=\"#DejaVuSans-114\"/>\n       <use x=\"483.886719\" xlink:href=\"#DejaVuSans-97\"/>\n       <use x=\"545.166016\" xlink:href=\"#DejaVuSans-115\"/>\n       <use x=\"597.265625\" xlink:href=\"#DejaVuSans-116\"/>\n       <use x=\"636.474609\" xlink:href=\"#DejaVuSans-114\"/>\n       <use x=\"677.587891\" xlink:href=\"#DejaVuSans-117\"/>\n       <use x=\"740.966797\" xlink:href=\"#DejaVuSans-99\"/>\n       <use x=\"795.947266\" xlink:href=\"#DejaVuSans-116\"/>\n       <use x=\"835.15625\" xlink:href=\"#DejaVuSans-117\"/>\n       <use x=\"898.535156\" xlink:href=\"#DejaVuSans-114\"/>\n       <use x=\"937.398438\" xlink:href=\"#DejaVuSans-101\"/>\n      </g>\n     </g>\n    </g>\n    <g id=\"xtick_11\">\n     <g id=\"line2d_11\">\n      <g>\n       <use style=\"stroke:#000000;stroke-width:0.8;\" x=\"355.603125\" xlink:href=\"#m716ec7a5b4\" y=\"550.8\"/>\n      </g>\n     </g>\n     <g id=\"text_11\">\n      <!-- refugees -->\n      <g transform=\"translate(358.3625 601.560938)rotate(-90)scale(0.1 -0.1)\">\n       <defs>\n        <path d=\"M 45.40625 27.984375 \nQ 45.40625 37.75 41.375 43.109375 \nQ 37.359375 48.484375 30.078125 48.484375 \nQ 22.859375 48.484375 18.828125 43.109375 \nQ 14.796875 37.75 14.796875 27.984375 \nQ 14.796875 18.265625 18.828125 12.890625 \nQ 22.859375 7.515625 30.078125 7.515625 \nQ 37.359375 7.515625 41.375 12.890625 \nQ 45.40625 18.265625 45.40625 27.984375 \nz\nM 54.390625 6.78125 \nQ 54.390625 -7.171875 48.1875 -13.984375 \nQ 42 -20.796875 29.203125 -20.796875 \nQ 24.46875 -20.796875 20.265625 -20.09375 \nQ 16.0625 -19.390625 12.109375 -17.921875 \nL 12.109375 -9.1875 \nQ 16.0625 -11.328125 19.921875 -12.34375 \nQ 23.78125 -13.375 27.78125 -13.375 \nQ 36.625 -13.375 41.015625 -8.765625 \nQ 45.40625 -4.15625 45.40625 5.171875 \nL 45.40625 9.625 \nQ 42.625 4.78125 38.28125 2.390625 \nQ 33.9375 0 27.875 0 \nQ 17.828125 0 11.671875 7.65625 \nQ 5.515625 15.328125 5.515625 27.984375 \nQ 5.515625 40.671875 11.671875 48.328125 \nQ 17.828125 56 27.875 56 \nQ 33.9375 56 38.28125 53.609375 \nQ 42.625 51.21875 45.40625 46.390625 \nL 45.40625 54.6875 \nL 54.390625 54.6875 \nz\n\" id=\"DejaVuSans-103\"/>\n       </defs>\n       <use xlink:href=\"#DejaVuSans-114\"/>\n       <use x=\"38.863281\" xlink:href=\"#DejaVuSans-101\"/>\n       <use x=\"100.386719\" xlink:href=\"#DejaVuSans-102\"/>\n       <use x=\"135.591797\" xlink:href=\"#DejaVuSans-117\"/>\n       <use x=\"198.970703\" xlink:href=\"#DejaVuSans-103\"/>\n       <use x=\"262.447266\" xlink:href=\"#DejaVuSans-101\"/>\n       <use x=\"323.970703\" xlink:href=\"#DejaVuSans-101\"/>\n       <use x=\"385.494141\" xlink:href=\"#DejaVuSans-115\"/>\n      </g>\n     </g>\n    </g>\n    <g id=\"xtick_12\">\n     <g id=\"line2d_12\">\n      <g>\n       <use style=\"stroke:#000000;stroke-width:0.8;\" x=\"386.603125\" xlink:href=\"#m716ec7a5b4\" y=\"550.8\"/>\n      </g>\n     </g>\n     <g id=\"text_12\">\n      <!-- missing_people -->\n      <g transform=\"translate(389.223437 635.101562)rotate(-90)scale(0.1 -0.1)\">\n       <defs>\n        <path d=\"M 52 44.1875 \nQ 55.375 50.25 60.0625 53.125 \nQ 64.75 56 71.09375 56 \nQ 79.640625 56 84.28125 50.015625 \nQ 88.921875 44.046875 88.921875 33.015625 \nL 88.921875 0 \nL 79.890625 0 \nL 79.890625 32.71875 \nQ 79.890625 40.578125 77.09375 44.375 \nQ 74.3125 48.1875 68.609375 48.1875 \nQ 61.625 48.1875 57.5625 43.546875 \nQ 53.515625 38.921875 53.515625 30.90625 \nL 53.515625 0 \nL 44.484375 0 \nL 44.484375 32.71875 \nQ 44.484375 40.625 41.703125 44.40625 \nQ 38.921875 48.1875 33.109375 48.1875 \nQ 26.21875 48.1875 22.15625 43.53125 \nQ 18.109375 38.875 18.109375 30.90625 \nL 18.109375 0 \nL 9.078125 0 \nL 9.078125 54.6875 \nL 18.109375 54.6875 \nL 18.109375 46.1875 \nQ 21.1875 51.21875 25.484375 53.609375 \nQ 29.78125 56 35.6875 56 \nQ 41.65625 56 45.828125 52.96875 \nQ 50 49.953125 52 44.1875 \nz\n\" id=\"DejaVuSans-109\"/>\n       </defs>\n       <use xlink:href=\"#DejaVuSans-109\"/>\n       <use x=\"97.412109\" xlink:href=\"#DejaVuSans-105\"/>\n       <use x=\"125.195312\" xlink:href=\"#DejaVuSans-115\"/>\n       <use x=\"177.294922\" xlink:href=\"#DejaVuSans-115\"/>\n       <use x=\"229.394531\" xlink:href=\"#DejaVuSans-105\"/>\n       <use x=\"257.177734\" xlink:href=\"#DejaVuSans-110\"/>\n       <use x=\"320.556641\" xlink:href=\"#DejaVuSans-103\"/>\n       <use x=\"384.033203\" xlink:href=\"#DejaVuSans-95\"/>\n       <use x=\"434.033203\" xlink:href=\"#DejaVuSans-112\"/>\n       <use x=\"497.509766\" xlink:href=\"#DejaVuSans-101\"/>\n       <use x=\"559.033203\" xlink:href=\"#DejaVuSans-111\"/>\n       <use x=\"620.214844\" xlink:href=\"#DejaVuSans-112\"/>\n       <use x=\"683.691406\" xlink:href=\"#DejaVuSans-108\"/>\n       <use x=\"711.474609\" xlink:href=\"#DejaVuSans-101\"/>\n      </g>\n     </g>\n    </g>\n    <g id=\"xtick_13\">\n     <g id=\"line2d_13\">\n      <g>\n       <use style=\"stroke:#000000;stroke-width:0.8;\" x=\"417.603125\" xlink:href=\"#m716ec7a5b4\" y=\"550.8\"/>\n      </g>\n     </g>\n     <g id=\"text_13\">\n      <!-- money -->\n      <g transform=\"translate(420.3625 592.06875)rotate(-90)scale(0.1 -0.1)\">\n       <use xlink:href=\"#DejaVuSans-109\"/>\n       <use x=\"97.412109\" xlink:href=\"#DejaVuSans-111\"/>\n       <use x=\"158.59375\" xlink:href=\"#DejaVuSans-110\"/>\n       <use x=\"221.972656\" xlink:href=\"#DejaVuSans-101\"/>\n       <use x=\"283.496094\" xlink:href=\"#DejaVuSans-121\"/>\n      </g>\n     </g>\n    </g>\n    <g id=\"xtick_14\">\n     <g id=\"line2d_14\">\n      <g>\n       <use style=\"stroke:#000000;stroke-width:0.8;\" x=\"448.603125\" xlink:href=\"#m716ec7a5b4\" y=\"550.8\"/>\n      </g>\n     </g>\n     <g id=\"text_14\">\n      <!-- other_weather -->\n      <g transform=\"translate(451.223437 630.421875)rotate(-90)scale(0.1 -0.1)\">\n       <defs>\n        <path d=\"M 4.203125 54.6875 \nL 13.1875 54.6875 \nL 24.421875 12.015625 \nL 35.59375 54.6875 \nL 46.1875 54.6875 \nL 57.421875 12.015625 \nL 68.609375 54.6875 \nL 77.59375 54.6875 \nL 63.28125 0 \nL 52.6875 0 \nL 40.921875 44.828125 \nL 29.109375 0 \nL 18.5 0 \nz\n\" id=\"DejaVuSans-119\"/>\n       </defs>\n       <use xlink:href=\"#DejaVuSans-111\"/>\n       <use x=\"61.181641\" xlink:href=\"#DejaVuSans-116\"/>\n       <use x=\"100.390625\" xlink:href=\"#DejaVuSans-104\"/>\n       <use x=\"163.769531\" xlink:href=\"#DejaVuSans-101\"/>\n       <use x=\"225.292969\" xlink:href=\"#DejaVuSans-114\"/>\n       <use x=\"266.40625\" xlink:href=\"#DejaVuSans-95\"/>\n       <use x=\"316.40625\" xlink:href=\"#DejaVuSans-119\"/>\n       <use x=\"398.193359\" xlink:href=\"#DejaVuSans-101\"/>\n       <use x=\"459.716797\" xlink:href=\"#DejaVuSans-97\"/>\n       <use x=\"520.996094\" xlink:href=\"#DejaVuSans-116\"/>\n       <use x=\"560.205078\" xlink:href=\"#DejaVuSans-104\"/>\n       <use x=\"623.583984\" xlink:href=\"#DejaVuSans-101\"/>\n       <use x=\"685.107422\" xlink:href=\"#DejaVuSans-114\"/>\n      </g>\n     </g>\n    </g>\n    <g id=\"xtick_15\">\n     <g id=\"line2d_15\">\n      <g>\n       <use style=\"stroke:#000000;stroke-width:0.8;\" x=\"479.603125\" xlink:href=\"#m716ec7a5b4\" y=\"550.8\"/>\n      </g>\n     </g>\n     <g id=\"text_15\">\n      <!-- other_aid -->\n      <g transform=\"translate(482.223437 604.695312)rotate(-90)scale(0.1 -0.1)\">\n       <use xlink:href=\"#DejaVuSans-111\"/>\n       <use x=\"61.181641\" xlink:href=\"#DejaVuSans-116\"/>\n       <use x=\"100.390625\" xlink:href=\"#DejaVuSans-104\"/>\n       <use x=\"163.769531\" xlink:href=\"#DejaVuSans-101\"/>\n       <use x=\"225.292969\" xlink:href=\"#DejaVuSans-114\"/>\n       <use x=\"266.40625\" xlink:href=\"#DejaVuSans-95\"/>\n       <use x=\"316.40625\" xlink:href=\"#DejaVuSans-97\"/>\n       <use x=\"377.685547\" xlink:href=\"#DejaVuSans-105\"/>\n       <use x=\"405.46875\" xlink:href=\"#DejaVuSans-100\"/>\n      </g>\n     </g>\n    </g>\n    <g id=\"xtick_16\">\n     <g id=\"line2d_16\">\n      <g>\n       <use style=\"stroke:#000000;stroke-width:0.8;\" x=\"510.603125\" xlink:href=\"#m716ec7a5b4\" y=\"550.8\"/>\n      </g>\n     </g>\n     <g id=\"text_16\">\n      <!-- search_and_rescue -->\n      <g transform=\"translate(513.223437 653.064062)rotate(-90)scale(0.1 -0.1)\">\n       <use xlink:href=\"#DejaVuSans-115\"/>\n       <use x=\"52.099609\" xlink:href=\"#DejaVuSans-101\"/>\n       <use x=\"113.623047\" xlink:href=\"#DejaVuSans-97\"/>\n       <use x=\"174.902344\" xlink:href=\"#DejaVuSans-114\"/>\n       <use x=\"213.765625\" xlink:href=\"#DejaVuSans-99\"/>\n       <use x=\"268.746094\" xlink:href=\"#DejaVuSans-104\"/>\n       <use x=\"332.125\" xlink:href=\"#DejaVuSans-95\"/>\n       <use x=\"382.125\" xlink:href=\"#DejaVuSans-97\"/>\n       <use x=\"443.404297\" xlink:href=\"#DejaVuSans-110\"/>\n       <use x=\"506.783203\" xlink:href=\"#DejaVuSans-100\"/>\n       <use x=\"570.259766\" xlink:href=\"#DejaVuSans-95\"/>\n       <use x=\"620.259766\" xlink:href=\"#DejaVuSans-114\"/>\n       <use x=\"659.123047\" xlink:href=\"#DejaVuSans-101\"/>\n       <use x=\"720.646484\" xlink:href=\"#DejaVuSans-115\"/>\n       <use x=\"772.746094\" xlink:href=\"#DejaVuSans-99\"/>\n       <use x=\"827.726562\" xlink:href=\"#DejaVuSans-117\"/>\n       <use x=\"891.105469\" xlink:href=\"#DejaVuSans-101\"/>\n      </g>\n     </g>\n    </g>\n    <g id=\"xtick_17\">\n     <g id=\"line2d_17\">\n      <g>\n       <use style=\"stroke:#000000;stroke-width:0.8;\" x=\"541.603125\" xlink:href=\"#m716ec7a5b4\" y=\"550.8\"/>\n      </g>\n     </g>\n     <g id=\"text_17\">\n      <!-- military -->\n      <g transform=\"translate(544.3625 595.953125)rotate(-90)scale(0.1 -0.1)\">\n       <use xlink:href=\"#DejaVuSans-109\"/>\n       <use x=\"97.412109\" xlink:href=\"#DejaVuSans-105\"/>\n       <use x=\"125.195312\" xlink:href=\"#DejaVuSans-108\"/>\n       <use x=\"152.978516\" xlink:href=\"#DejaVuSans-105\"/>\n       <use x=\"180.761719\" xlink:href=\"#DejaVuSans-116\"/>\n       <use x=\"219.970703\" xlink:href=\"#DejaVuSans-97\"/>\n       <use x=\"281.25\" xlink:href=\"#DejaVuSans-114\"/>\n       <use x=\"322.363281\" xlink:href=\"#DejaVuSans-121\"/>\n      </g>\n     </g>\n    </g>\n    <g id=\"xtick_18\">\n     <g id=\"line2d_18\">\n      <g>\n       <use style=\"stroke:#000000;stroke-width:0.8;\" x=\"572.603125\" xlink:href=\"#m716ec7a5b4\" y=\"550.8\"/>\n      </g>\n     </g>\n     <g id=\"text_18\">\n      <!-- electricity -->\n      <g transform=\"translate(575.3625 607.307812)rotate(-90)scale(0.1 -0.1)\">\n       <use xlink:href=\"#DejaVuSans-101\"/>\n       <use x=\"61.523438\" xlink:href=\"#DejaVuSans-108\"/>\n       <use x=\"89.306641\" xlink:href=\"#DejaVuSans-101\"/>\n       <use x=\"150.830078\" xlink:href=\"#DejaVuSans-99\"/>\n       <use x=\"205.810547\" xlink:href=\"#DejaVuSans-116\"/>\n       <use x=\"245.019531\" xlink:href=\"#DejaVuSans-114\"/>\n       <use x=\"286.132812\" xlink:href=\"#DejaVuSans-105\"/>\n       <use x=\"313.916016\" xlink:href=\"#DejaVuSans-99\"/>\n       <use x=\"368.896484\" xlink:href=\"#DejaVuSans-105\"/>\n       <use x=\"396.679688\" xlink:href=\"#DejaVuSans-116\"/>\n       <use x=\"435.888672\" xlink:href=\"#DejaVuSans-121\"/>\n      </g>\n     </g>\n    </g>\n    <g id=\"xtick_19\">\n     <g id=\"line2d_19\">\n      <g>\n       <use style=\"stroke:#000000;stroke-width:0.8;\" x=\"603.603125\" xlink:href=\"#m716ec7a5b4\" y=\"550.8\"/>\n      </g>\n     </g>\n     <g id=\"text_19\">\n      <!-- cold -->\n      <g transform=\"translate(606.3625 578.54375)rotate(-90)scale(0.1 -0.1)\">\n       <use xlink:href=\"#DejaVuSans-99\"/>\n       <use x=\"54.980469\" xlink:href=\"#DejaVuSans-111\"/>\n       <use x=\"116.162109\" xlink:href=\"#DejaVuSans-108\"/>\n       <use x=\"143.945312\" xlink:href=\"#DejaVuSans-100\"/>\n      </g>\n     </g>\n    </g>\n    <g id=\"xtick_20\">\n     <g id=\"line2d_20\">\n      <g>\n       <use style=\"stroke:#000000;stroke-width:0.8;\" x=\"634.603125\" xlink:href=\"#m716ec7a5b4\" y=\"550.8\"/>\n      </g>\n     </g>\n     <g id=\"text_20\">\n      <!-- medical_help -->\n      <g transform=\"translate(637.223437 623.842188)rotate(-90)scale(0.1 -0.1)\">\n       <use xlink:href=\"#DejaVuSans-109\"/>\n       <use x=\"97.412109\" xlink:href=\"#DejaVuSans-101\"/>\n       <use x=\"158.935547\" xlink:href=\"#DejaVuSans-100\"/>\n       <use x=\"222.412109\" xlink:href=\"#DejaVuSans-105\"/>\n       <use x=\"250.195312\" xlink:href=\"#DejaVuSans-99\"/>\n       <use x=\"305.175781\" xlink:href=\"#DejaVuSans-97\"/>\n       <use x=\"366.455078\" xlink:href=\"#DejaVuSans-108\"/>\n       <use x=\"394.238281\" xlink:href=\"#DejaVuSans-95\"/>\n       <use x=\"444.238281\" xlink:href=\"#DejaVuSans-104\"/>\n       <use x=\"507.617188\" xlink:href=\"#DejaVuSans-101\"/>\n       <use x=\"569.140625\" xlink:href=\"#DejaVuSans-108\"/>\n       <use x=\"596.923828\" xlink:href=\"#DejaVuSans-112\"/>\n      </g>\n     </g>\n    </g>\n    <g id=\"xtick_21\">\n     <g id=\"line2d_21\">\n      <g>\n       <use style=\"stroke:#000000;stroke-width:0.8;\" x=\"665.603125\" xlink:href=\"#m716ec7a5b4\" y=\"550.8\"/>\n      </g>\n     </g>\n     <g id=\"text_21\">\n      <!-- transport -->\n      <g transform=\"translate(668.3625 604.004688)rotate(-90)scale(0.1 -0.1)\">\n       <use xlink:href=\"#DejaVuSans-116\"/>\n       <use x=\"39.208984\" xlink:href=\"#DejaVuSans-114\"/>\n       <use x=\"80.322266\" xlink:href=\"#DejaVuSans-97\"/>\n       <use x=\"141.601562\" xlink:href=\"#DejaVuSans-110\"/>\n       <use x=\"204.980469\" xlink:href=\"#DejaVuSans-115\"/>\n       <use x=\"257.080078\" xlink:href=\"#DejaVuSans-112\"/>\n       <use x=\"320.556641\" xlink:href=\"#DejaVuSans-111\"/>\n       <use x=\"381.738281\" xlink:href=\"#DejaVuSans-114\"/>\n       <use x=\"422.851562\" xlink:href=\"#DejaVuSans-116\"/>\n      </g>\n     </g>\n    </g>\n    <g id=\"xtick_22\">\n     <g id=\"line2d_22\">\n      <g>\n       <use style=\"stroke:#000000;stroke-width:0.8;\" x=\"696.603125\" xlink:href=\"#m716ec7a5b4\" y=\"550.8\"/>\n      </g>\n     </g>\n     <g id=\"text_22\">\n      <!-- medical_products -->\n      <g transform=\"translate(699.223437 645.892187)rotate(-90)scale(0.1 -0.1)\">\n       <use xlink:href=\"#DejaVuSans-109\"/>\n       <use x=\"97.412109\" xlink:href=\"#DejaVuSans-101\"/>\n       <use x=\"158.935547\" xlink:href=\"#DejaVuSans-100\"/>\n       <use x=\"222.412109\" xlink:href=\"#DejaVuSans-105\"/>\n       <use x=\"250.195312\" xlink:href=\"#DejaVuSans-99\"/>\n       <use x=\"305.175781\" xlink:href=\"#DejaVuSans-97\"/>\n       <use x=\"366.455078\" xlink:href=\"#DejaVuSans-108\"/>\n       <use x=\"394.238281\" xlink:href=\"#DejaVuSans-95\"/>\n       <use x=\"444.238281\" xlink:href=\"#DejaVuSans-112\"/>\n       <use x=\"507.714844\" xlink:href=\"#DejaVuSans-114\"/>\n       <use x=\"546.578125\" xlink:href=\"#DejaVuSans-111\"/>\n       <use x=\"607.759766\" xlink:href=\"#DejaVuSans-100\"/>\n       <use x=\"671.236328\" xlink:href=\"#DejaVuSans-117\"/>\n       <use x=\"734.615234\" xlink:href=\"#DejaVuSans-99\"/>\n       <use x=\"789.595703\" xlink:href=\"#DejaVuSans-116\"/>\n       <use x=\"828.804688\" xlink:href=\"#DejaVuSans-115\"/>\n      </g>\n     </g>\n    </g>\n    <g id=\"xtick_23\">\n     <g id=\"line2d_23\">\n      <g>\n       <use style=\"stroke:#000000;stroke-width:0.8;\" x=\"727.603125\" xlink:href=\"#m716ec7a5b4\" y=\"550.8\"/>\n      </g>\n     </g>\n     <g id=\"text_23\">\n      <!-- buildings -->\n      <g transform=\"translate(730.3625 603.064062)rotate(-90)scale(0.1 -0.1)\">\n       <defs>\n        <path d=\"M 48.6875 27.296875 \nQ 48.6875 37.203125 44.609375 42.84375 \nQ 40.53125 48.484375 33.40625 48.484375 \nQ 26.265625 48.484375 22.1875 42.84375 \nQ 18.109375 37.203125 18.109375 27.296875 \nQ 18.109375 17.390625 22.1875 11.75 \nQ 26.265625 6.109375 33.40625 6.109375 \nQ 40.53125 6.109375 44.609375 11.75 \nQ 48.6875 17.390625 48.6875 27.296875 \nz\nM 18.109375 46.390625 \nQ 20.953125 51.265625 25.265625 53.625 \nQ 29.59375 56 35.59375 56 \nQ 45.5625 56 51.78125 48.09375 \nQ 58.015625 40.1875 58.015625 27.296875 \nQ 58.015625 14.40625 51.78125 6.484375 \nQ 45.5625 -1.421875 35.59375 -1.421875 \nQ 29.59375 -1.421875 25.265625 0.953125 \nQ 20.953125 3.328125 18.109375 8.203125 \nL 18.109375 0 \nL 9.078125 0 \nL 9.078125 75.984375 \nL 18.109375 75.984375 \nz\n\" id=\"DejaVuSans-98\"/>\n       </defs>\n       <use xlink:href=\"#DejaVuSans-98\"/>\n       <use x=\"63.476562\" xlink:href=\"#DejaVuSans-117\"/>\n       <use x=\"126.855469\" xlink:href=\"#DejaVuSans-105\"/>\n       <use x=\"154.638672\" xlink:href=\"#DejaVuSans-108\"/>\n       <use x=\"182.421875\" xlink:href=\"#DejaVuSans-100\"/>\n       <use x=\"245.898438\" xlink:href=\"#DejaVuSans-105\"/>\n       <use x=\"273.681641\" xlink:href=\"#DejaVuSans-110\"/>\n       <use x=\"337.060547\" xlink:href=\"#DejaVuSans-103\"/>\n       <use x=\"400.537109\" xlink:href=\"#DejaVuSans-115\"/>\n      </g>\n     </g>\n    </g>\n    <g id=\"xtick_24\">\n     <g id=\"line2d_24\">\n      <g>\n       <use style=\"stroke:#000000;stroke-width:0.8;\" x=\"758.603125\" xlink:href=\"#m716ec7a5b4\" y=\"550.8\"/>\n      </g>\n     </g>\n     <g id=\"text_24\">\n      <!-- clothing -->\n      <g transform=\"translate(761.3625 597.917187)rotate(-90)scale(0.1 -0.1)\">\n       <use xlink:href=\"#DejaVuSans-99\"/>\n       <use x=\"54.980469\" xlink:href=\"#DejaVuSans-108\"/>\n       <use x=\"82.763672\" xlink:href=\"#DejaVuSans-111\"/>\n       <use x=\"143.945312\" xlink:href=\"#DejaVuSans-116\"/>\n       <use x=\"183.154297\" xlink:href=\"#DejaVuSans-104\"/>\n       <use x=\"246.533203\" xlink:href=\"#DejaVuSans-105\"/>\n       <use x=\"274.316406\" xlink:href=\"#DejaVuSans-110\"/>\n       <use x=\"337.695312\" xlink:href=\"#DejaVuSans-103\"/>\n      </g>\n     </g>\n    </g>\n    <g id=\"xtick_25\">\n     <g id=\"line2d_25\">\n      <g>\n       <use style=\"stroke:#000000;stroke-width:0.8;\" x=\"789.603125\" xlink:href=\"#m716ec7a5b4\" y=\"550.8\"/>\n      </g>\n     </g>\n     <g id=\"text_25\">\n      <!-- death -->\n      <g transform=\"translate(792.3625 586.6875)rotate(-90)scale(0.1 -0.1)\">\n       <use xlink:href=\"#DejaVuSans-100\"/>\n       <use x=\"63.476562\" xlink:href=\"#DejaVuSans-101\"/>\n       <use x=\"125\" xlink:href=\"#DejaVuSans-97\"/>\n       <use x=\"186.279297\" xlink:href=\"#DejaVuSans-116\"/>\n       <use x=\"225.488281\" xlink:href=\"#DejaVuSans-104\"/>\n      </g>\n     </g>\n    </g>\n    <g id=\"xtick_26\">\n     <g id=\"line2d_26\">\n      <g>\n       <use style=\"stroke:#000000;stroke-width:0.8;\" x=\"820.603125\" xlink:href=\"#m716ec7a5b4\" y=\"550.8\"/>\n      </g>\n     </g>\n     <g id=\"text_26\">\n      <!-- shelter -->\n      <g transform=\"translate(823.3625 592.4625)rotate(-90)scale(0.1 -0.1)\">\n       <use xlink:href=\"#DejaVuSans-115\"/>\n       <use x=\"52.099609\" xlink:href=\"#DejaVuSans-104\"/>\n       <use x=\"115.478516\" xlink:href=\"#DejaVuSans-101\"/>\n       <use x=\"177.001953\" xlink:href=\"#DejaVuSans-108\"/>\n       <use x=\"204.785156\" xlink:href=\"#DejaVuSans-116\"/>\n       <use x=\"243.994141\" xlink:href=\"#DejaVuSans-101\"/>\n       <use x=\"305.517578\" xlink:href=\"#DejaVuSans-114\"/>\n      </g>\n     </g>\n    </g>\n    <g id=\"xtick_27\">\n     <g id=\"line2d_27\">\n      <g>\n       <use style=\"stroke:#000000;stroke-width:0.8;\" x=\"851.603125\" xlink:href=\"#m716ec7a5b4\" y=\"550.8\"/>\n      </g>\n     </g>\n     <g id=\"text_27\">\n      <!-- direct_report -->\n      <g transform=\"translate(854.223437 621.921875)rotate(-90)scale(0.1 -0.1)\">\n       <use xlink:href=\"#DejaVuSans-100\"/>\n       <use x=\"63.476562\" xlink:href=\"#DejaVuSans-105\"/>\n       <use x=\"91.259766\" xlink:href=\"#DejaVuSans-114\"/>\n       <use x=\"130.123047\" xlink:href=\"#DejaVuSans-101\"/>\n       <use x=\"191.646484\" xlink:href=\"#DejaVuSans-99\"/>\n       <use x=\"246.626953\" xlink:href=\"#DejaVuSans-116\"/>\n       <use x=\"285.835938\" xlink:href=\"#DejaVuSans-95\"/>\n       <use x=\"335.835938\" xlink:href=\"#DejaVuSans-114\"/>\n       <use x=\"374.699219\" xlink:href=\"#DejaVuSans-101\"/>\n       <use x=\"436.222656\" xlink:href=\"#DejaVuSans-112\"/>\n       <use x=\"499.699219\" xlink:href=\"#DejaVuSans-111\"/>\n       <use x=\"560.880859\" xlink:href=\"#DejaVuSans-114\"/>\n       <use x=\"601.994141\" xlink:href=\"#DejaVuSans-116\"/>\n      </g>\n     </g>\n    </g>\n    <g id=\"xtick_28\">\n     <g id=\"line2d_28\">\n      <g>\n       <use style=\"stroke:#000000;stroke-width:0.8;\" x=\"882.603125\" xlink:href=\"#m716ec7a5b4\" y=\"550.8\"/>\n      </g>\n     </g>\n     <g id=\"text_28\">\n      <!-- water -->\n      <g transform=\"translate(885.3625 586.290625)rotate(-90)scale(0.1 -0.1)\">\n       <use xlink:href=\"#DejaVuSans-119\"/>\n       <use x=\"81.787109\" xlink:href=\"#DejaVuSans-97\"/>\n       <use x=\"143.066406\" xlink:href=\"#DejaVuSans-116\"/>\n       <use x=\"182.275391\" xlink:href=\"#DejaVuSans-101\"/>\n       <use x=\"243.798828\" xlink:href=\"#DejaVuSans-114\"/>\n      </g>\n     </g>\n    </g>\n    <g id=\"xtick_29\">\n     <g id=\"line2d_29\">\n      <g>\n       <use style=\"stroke:#000000;stroke-width:0.8;\" x=\"913.603125\" xlink:href=\"#m716ec7a5b4\" y=\"550.8\"/>\n      </g>\n     </g>\n     <g id=\"text_29\">\n      <!-- floods -->\n      <g transform=\"translate(916.3625 587.89375)rotate(-90)scale(0.1 -0.1)\">\n       <use xlink:href=\"#DejaVuSans-102\"/>\n       <use x=\"35.205078\" xlink:href=\"#DejaVuSans-108\"/>\n       <use x=\"62.988281\" xlink:href=\"#DejaVuSans-111\"/>\n       <use x=\"124.169922\" xlink:href=\"#DejaVuSans-111\"/>\n       <use x=\"185.351562\" xlink:href=\"#DejaVuSans-100\"/>\n       <use x=\"248.828125\" xlink:href=\"#DejaVuSans-115\"/>\n      </g>\n     </g>\n    </g>\n    <g id=\"xtick_30\">\n     <g id=\"line2d_30\">\n      <g>\n       <use style=\"stroke:#000000;stroke-width:0.8;\" x=\"944.603125\" xlink:href=\"#m716ec7a5b4\" y=\"550.8\"/>\n      </g>\n     </g>\n     <g id=\"text_30\">\n      <!-- request -->\n      <g transform=\"translate(947.3625 595.807812)rotate(-90)scale(0.1 -0.1)\">\n       <defs>\n        <path d=\"M 14.796875 27.296875 \nQ 14.796875 17.390625 18.875 11.75 \nQ 22.953125 6.109375 30.078125 6.109375 \nQ 37.203125 6.109375 41.296875 11.75 \nQ 45.40625 17.390625 45.40625 27.296875 \nQ 45.40625 37.203125 41.296875 42.84375 \nQ 37.203125 48.484375 30.078125 48.484375 \nQ 22.953125 48.484375 18.875 42.84375 \nQ 14.796875 37.203125 14.796875 27.296875 \nz\nM 45.40625 8.203125 \nQ 42.578125 3.328125 38.25 0.953125 \nQ 33.9375 -1.421875 27.875 -1.421875 \nQ 17.96875 -1.421875 11.734375 6.484375 \nQ 5.515625 14.40625 5.515625 27.296875 \nQ 5.515625 40.1875 11.734375 48.09375 \nQ 17.96875 56 27.875 56 \nQ 33.9375 56 38.25 53.625 \nQ 42.578125 51.265625 45.40625 46.390625 \nL 45.40625 54.6875 \nL 54.390625 54.6875 \nL 54.390625 -20.796875 \nL 45.40625 -20.796875 \nz\n\" id=\"DejaVuSans-113\"/>\n       </defs>\n       <use xlink:href=\"#DejaVuSans-114\"/>\n       <use x=\"38.863281\" xlink:href=\"#DejaVuSans-101\"/>\n       <use x=\"100.386719\" xlink:href=\"#DejaVuSans-113\"/>\n       <use x=\"163.863281\" xlink:href=\"#DejaVuSans-117\"/>\n       <use x=\"227.242188\" xlink:href=\"#DejaVuSans-101\"/>\n       <use x=\"288.765625\" xlink:href=\"#DejaVuSans-115\"/>\n       <use x=\"340.865234\" xlink:href=\"#DejaVuSans-116\"/>\n      </g>\n     </g>\n    </g>\n    <g id=\"xtick_31\">\n     <g id=\"line2d_31\">\n      <g>\n       <use style=\"stroke:#000000;stroke-width:0.8;\" x=\"975.603125\" xlink:href=\"#m716ec7a5b4\" y=\"550.8\"/>\n      </g>\n     </g>\n     <g id=\"text_31\">\n      <!-- storm -->\n      <g transform=\"translate(978.3625 586.725)rotate(-90)scale(0.1 -0.1)\">\n       <use xlink:href=\"#DejaVuSans-115\"/>\n       <use x=\"52.099609\" xlink:href=\"#DejaVuSans-116\"/>\n       <use x=\"91.308594\" xlink:href=\"#DejaVuSans-111\"/>\n       <use x=\"152.490234\" xlink:href=\"#DejaVuSans-114\"/>\n       <use x=\"191.853516\" xlink:href=\"#DejaVuSans-109\"/>\n      </g>\n     </g>\n    </g>\n    <g id=\"xtick_32\">\n     <g id=\"line2d_32\">\n      <g>\n       <use style=\"stroke:#000000;stroke-width:0.8;\" x=\"1006.603125\" xlink:href=\"#m716ec7a5b4\" y=\"550.8\"/>\n      </g>\n     </g>\n     <g id=\"text_32\">\n      <!-- food -->\n      <g transform=\"translate(1009.3625 579.90625)rotate(-90)scale(0.1 -0.1)\">\n       <use xlink:href=\"#DejaVuSans-102\"/>\n       <use x=\"35.205078\" xlink:href=\"#DejaVuSans-111\"/>\n       <use x=\"96.386719\" xlink:href=\"#DejaVuSans-111\"/>\n       <use x=\"157.568359\" xlink:href=\"#DejaVuSans-100\"/>\n      </g>\n     </g>\n    </g>\n    <g id=\"xtick_33\">\n     <g id=\"line2d_33\">\n      <g>\n       <use style=\"stroke:#000000;stroke-width:0.8;\" x=\"1037.603125\" xlink:href=\"#m716ec7a5b4\" y=\"550.8\"/>\n      </g>\n     </g>\n     <g id=\"text_33\">\n      <!-- aid_related -->\n      <g transform=\"translate(1040.223438 613.421875)rotate(-90)scale(0.1 -0.1)\">\n       <use xlink:href=\"#DejaVuSans-97\"/>\n       <use x=\"61.279297\" xlink:href=\"#DejaVuSans-105\"/>\n       <use x=\"89.0625\" xlink:href=\"#DejaVuSans-100\"/>\n       <use x=\"152.539062\" xlink:href=\"#DejaVuSans-95\"/>\n       <use x=\"202.539062\" xlink:href=\"#DejaVuSans-114\"/>\n       <use x=\"241.402344\" xlink:href=\"#DejaVuSans-101\"/>\n       <use x=\"302.925781\" xlink:href=\"#DejaVuSans-108\"/>\n       <use x=\"330.708984\" xlink:href=\"#DejaVuSans-97\"/>\n       <use x=\"391.988281\" xlink:href=\"#DejaVuSans-116\"/>\n       <use x=\"431.197266\" xlink:href=\"#DejaVuSans-101\"/>\n       <use x=\"492.720703\" xlink:href=\"#DejaVuSans-100\"/>\n      </g>\n     </g>\n    </g>\n    <g id=\"xtick_34\">\n     <g id=\"line2d_34\">\n      <g>\n       <use style=\"stroke:#000000;stroke-width:0.8;\" x=\"1068.603125\" xlink:href=\"#m716ec7a5b4\" y=\"550.8\"/>\n      </g>\n     </g>\n     <g id=\"text_34\">\n      <!-- weather_related -->\n      <g transform=\"translate(1071.223438 639.148438)rotate(-90)scale(0.1 -0.1)\">\n       <use xlink:href=\"#DejaVuSans-119\"/>\n       <use x=\"81.787109\" xlink:href=\"#DejaVuSans-101\"/>\n       <use x=\"143.310547\" xlink:href=\"#DejaVuSans-97\"/>\n       <use x=\"204.589844\" xlink:href=\"#DejaVuSans-116\"/>\n       <use x=\"243.798828\" xlink:href=\"#DejaVuSans-104\"/>\n       <use x=\"307.177734\" xlink:href=\"#DejaVuSans-101\"/>\n       <use x=\"368.701172\" xlink:href=\"#DejaVuSans-114\"/>\n       <use x=\"409.814453\" xlink:href=\"#DejaVuSans-95\"/>\n       <use x=\"459.814453\" xlink:href=\"#DejaVuSans-114\"/>\n       <use x=\"498.677734\" xlink:href=\"#DejaVuSans-101\"/>\n       <use x=\"560.201172\" xlink:href=\"#DejaVuSans-108\"/>\n       <use x=\"587.984375\" xlink:href=\"#DejaVuSans-97\"/>\n       <use x=\"649.263672\" xlink:href=\"#DejaVuSans-116\"/>\n       <use x=\"688.472656\" xlink:href=\"#DejaVuSans-101\"/>\n       <use x=\"749.996094\" xlink:href=\"#DejaVuSans-100\"/>\n      </g>\n     </g>\n    </g>\n    <g id=\"xtick_35\">\n     <g id=\"line2d_35\">\n      <g>\n       <use style=\"stroke:#000000;stroke-width:0.8;\" x=\"1099.603125\" xlink:href=\"#m716ec7a5b4\" y=\"550.8\"/>\n      </g>\n     </g>\n     <g id=\"text_35\">\n      <!-- earthquake -->\n      <g transform=\"translate(1102.3625 614.845312)rotate(-90)scale(0.1 -0.1)\">\n       <defs>\n        <path d=\"M 9.078125 75.984375 \nL 18.109375 75.984375 \nL 18.109375 31.109375 \nL 44.921875 54.6875 \nL 56.390625 54.6875 \nL 27.390625 29.109375 \nL 57.625 0 \nL 45.90625 0 \nL 18.109375 26.703125 \nL 18.109375 0 \nL 9.078125 0 \nz\n\" id=\"DejaVuSans-107\"/>\n       </defs>\n       <use xlink:href=\"#DejaVuSans-101\"/>\n       <use x=\"61.523438\" xlink:href=\"#DejaVuSans-97\"/>\n       <use x=\"122.802734\" xlink:href=\"#DejaVuSans-114\"/>\n       <use x=\"163.916016\" xlink:href=\"#DejaVuSans-116\"/>\n       <use x=\"203.125\" xlink:href=\"#DejaVuSans-104\"/>\n       <use x=\"266.503906\" xlink:href=\"#DejaVuSans-113\"/>\n       <use x=\"329.980469\" xlink:href=\"#DejaVuSans-117\"/>\n       <use x=\"393.359375\" xlink:href=\"#DejaVuSans-97\"/>\n       <use x=\"454.638672\" xlink:href=\"#DejaVuSans-107\"/>\n       <use x=\"508.923828\" xlink:href=\"#DejaVuSans-101\"/>\n      </g>\n     </g>\n    </g>\n    <g id=\"xtick_36\">\n     <g id=\"line2d_36\">\n      <g>\n       <use style=\"stroke:#000000;stroke-width:0.8;\" x=\"1130.603125\" xlink:href=\"#m716ec7a5b4\" y=\"550.8\"/>\n      </g>\n     </g>\n     <g id=\"text_36\">\n      <!-- related -->\n      <g transform=\"translate(1133.3625 593.167187)rotate(-90)scale(0.1 -0.1)\">\n       <use xlink:href=\"#DejaVuSans-114\"/>\n       <use x=\"38.863281\" xlink:href=\"#DejaVuSans-101\"/>\n       <use x=\"100.386719\" xlink:href=\"#DejaVuSans-108\"/>\n       <use x=\"128.169922\" xlink:href=\"#DejaVuSans-97\"/>\n       <use x=\"189.449219\" xlink:href=\"#DejaVuSans-116\"/>\n       <use x=\"228.658203\" xlink:href=\"#DejaVuSans-101\"/>\n       <use x=\"290.181641\" xlink:href=\"#DejaVuSans-100\"/>\n      </g>\n     </g>\n    </g>\n   </g>\n   <g id=\"matplotlib.axis_2\">\n    <g id=\"ytick_1\">\n     <g id=\"line2d_37\">\n      <defs>\n       <path d=\"M 0 0 \nL -3.5 0 \n\" id=\"m4196a25d6b\" style=\"stroke:#000000;stroke-width:0.8;\"/>\n      </defs>\n      <g>\n       <use style=\"stroke:#000000;stroke-width:0.8;\" x=\"30.103125\" xlink:href=\"#m4196a25d6b\" y=\"550.8\"/>\n      </g>\n     </g>\n     <g id=\"text_37\">\n      <!-- 0.0 -->\n      <g transform=\"translate(7.2 554.599219)scale(0.1 -0.1)\">\n       <defs>\n        <path d=\"M 31.78125 66.40625 \nQ 24.171875 66.40625 20.328125 58.90625 \nQ 16.5 51.421875 16.5 36.375 \nQ 16.5 21.390625 20.328125 13.890625 \nQ 24.171875 6.390625 31.78125 6.390625 \nQ 39.453125 6.390625 43.28125 13.890625 \nQ 47.125 21.390625 47.125 36.375 \nQ 47.125 51.421875 43.28125 58.90625 \nQ 39.453125 66.40625 31.78125 66.40625 \nz\nM 31.78125 74.21875 \nQ 44.046875 74.21875 50.515625 64.515625 \nQ 56.984375 54.828125 56.984375 36.375 \nQ 56.984375 17.96875 50.515625 8.265625 \nQ 44.046875 -1.421875 31.78125 -1.421875 \nQ 19.53125 -1.421875 13.0625 8.265625 \nQ 6.59375 17.96875 6.59375 36.375 \nQ 6.59375 54.828125 13.0625 64.515625 \nQ 19.53125 74.21875 31.78125 74.21875 \nz\n\" id=\"DejaVuSans-48\"/>\n        <path d=\"M 10.6875 12.40625 \nL 21 12.40625 \nL 21 0 \nL 10.6875 0 \nz\n\" id=\"DejaVuSans-46\"/>\n       </defs>\n       <use xlink:href=\"#DejaVuSans-48\"/>\n       <use x=\"63.623047\" xlink:href=\"#DejaVuSans-46\"/>\n       <use x=\"95.410156\" xlink:href=\"#DejaVuSans-48\"/>\n      </g>\n     </g>\n    </g>\n    <g id=\"ytick_2\">\n     <g id=\"line2d_38\">\n      <g>\n       <use style=\"stroke:#000000;stroke-width:0.8;\" x=\"30.103125\" xlink:href=\"#m4196a25d6b\" y=\"434.431094\"/>\n      </g>\n     </g>\n     <g id=\"text_38\">\n      <!-- 0.2 -->\n      <g transform=\"translate(7.2 438.230313)scale(0.1 -0.1)\">\n       <defs>\n        <path d=\"M 19.1875 8.296875 \nL 53.609375 8.296875 \nL 53.609375 0 \nL 7.328125 0 \nL 7.328125 8.296875 \nQ 12.9375 14.109375 22.625 23.890625 \nQ 32.328125 33.6875 34.8125 36.53125 \nQ 39.546875 41.84375 41.421875 45.53125 \nQ 43.3125 49.21875 43.3125 52.78125 \nQ 43.3125 58.59375 39.234375 62.25 \nQ 35.15625 65.921875 28.609375 65.921875 \nQ 23.96875 65.921875 18.8125 64.3125 \nQ 13.671875 62.703125 7.8125 59.421875 \nL 7.8125 69.390625 \nQ 13.765625 71.78125 18.9375 73 \nQ 24.125 74.21875 28.421875 74.21875 \nQ 39.75 74.21875 46.484375 68.546875 \nQ 53.21875 62.890625 53.21875 53.421875 \nQ 53.21875 48.921875 51.53125 44.890625 \nQ 49.859375 40.875 45.40625 35.40625 \nQ 44.1875 33.984375 37.640625 27.21875 \nQ 31.109375 20.453125 19.1875 8.296875 \nz\n\" id=\"DejaVuSans-50\"/>\n       </defs>\n       <use xlink:href=\"#DejaVuSans-48\"/>\n       <use x=\"63.623047\" xlink:href=\"#DejaVuSans-46\"/>\n       <use x=\"95.410156\" xlink:href=\"#DejaVuSans-50\"/>\n      </g>\n     </g>\n    </g>\n    <g id=\"ytick_3\">\n     <g id=\"line2d_39\">\n      <g>\n       <use style=\"stroke:#000000;stroke-width:0.8;\" x=\"30.103125\" xlink:href=\"#m4196a25d6b\" y=\"318.062189\"/>\n      </g>\n     </g>\n     <g id=\"text_39\">\n      <!-- 0.4 -->\n      <g transform=\"translate(7.2 321.861407)scale(0.1 -0.1)\">\n       <defs>\n        <path d=\"M 37.796875 64.3125 \nL 12.890625 25.390625 \nL 37.796875 25.390625 \nz\nM 35.203125 72.90625 \nL 47.609375 72.90625 \nL 47.609375 25.390625 \nL 58.015625 25.390625 \nL 58.015625 17.1875 \nL 47.609375 17.1875 \nL 47.609375 0 \nL 37.796875 0 \nL 37.796875 17.1875 \nL 4.890625 17.1875 \nL 4.890625 26.703125 \nz\n\" id=\"DejaVuSans-52\"/>\n       </defs>\n       <use xlink:href=\"#DejaVuSans-48\"/>\n       <use x=\"63.623047\" xlink:href=\"#DejaVuSans-46\"/>\n       <use x=\"95.410156\" xlink:href=\"#DejaVuSans-52\"/>\n      </g>\n     </g>\n    </g>\n    <g id=\"ytick_4\">\n     <g id=\"line2d_40\">\n      <g>\n       <use style=\"stroke:#000000;stroke-width:0.8;\" x=\"30.103125\" xlink:href=\"#m4196a25d6b\" y=\"201.693283\"/>\n      </g>\n     </g>\n     <g id=\"text_40\">\n      <!-- 0.6 -->\n      <g transform=\"translate(7.2 205.492502)scale(0.1 -0.1)\">\n       <defs>\n        <path d=\"M 33.015625 40.375 \nQ 26.375 40.375 22.484375 35.828125 \nQ 18.609375 31.296875 18.609375 23.390625 \nQ 18.609375 15.53125 22.484375 10.953125 \nQ 26.375 6.390625 33.015625 6.390625 \nQ 39.65625 6.390625 43.53125 10.953125 \nQ 47.40625 15.53125 47.40625 23.390625 \nQ 47.40625 31.296875 43.53125 35.828125 \nQ 39.65625 40.375 33.015625 40.375 \nz\nM 52.59375 71.296875 \nL 52.59375 62.3125 \nQ 48.875 64.0625 45.09375 64.984375 \nQ 41.3125 65.921875 37.59375 65.921875 \nQ 27.828125 65.921875 22.671875 59.328125 \nQ 17.53125 52.734375 16.796875 39.40625 \nQ 19.671875 43.65625 24.015625 45.921875 \nQ 28.375 48.1875 33.59375 48.1875 \nQ 44.578125 48.1875 50.953125 41.515625 \nQ 57.328125 34.859375 57.328125 23.390625 \nQ 57.328125 12.15625 50.6875 5.359375 \nQ 44.046875 -1.421875 33.015625 -1.421875 \nQ 20.359375 -1.421875 13.671875 8.265625 \nQ 6.984375 17.96875 6.984375 36.375 \nQ 6.984375 53.65625 15.1875 63.9375 \nQ 23.390625 74.21875 37.203125 74.21875 \nQ 40.921875 74.21875 44.703125 73.484375 \nQ 48.484375 72.75 52.59375 71.296875 \nz\n\" id=\"DejaVuSans-54\"/>\n       </defs>\n       <use xlink:href=\"#DejaVuSans-48\"/>\n       <use x=\"63.623047\" xlink:href=\"#DejaVuSans-46\"/>\n       <use x=\"95.410156\" xlink:href=\"#DejaVuSans-54\"/>\n      </g>\n     </g>\n    </g>\n    <g id=\"ytick_5\">\n     <g id=\"line2d_41\">\n      <g>\n       <use style=\"stroke:#000000;stroke-width:0.8;\" x=\"30.103125\" xlink:href=\"#m4196a25d6b\" y=\"85.324377\"/>\n      </g>\n     </g>\n     <g id=\"text_41\">\n      <!-- 0.8 -->\n      <g transform=\"translate(7.2 89.123596)scale(0.1 -0.1)\">\n       <defs>\n        <path d=\"M 31.78125 34.625 \nQ 24.75 34.625 20.71875 30.859375 \nQ 16.703125 27.09375 16.703125 20.515625 \nQ 16.703125 13.921875 20.71875 10.15625 \nQ 24.75 6.390625 31.78125 6.390625 \nQ 38.8125 6.390625 42.859375 10.171875 \nQ 46.921875 13.96875 46.921875 20.515625 \nQ 46.921875 27.09375 42.890625 30.859375 \nQ 38.875 34.625 31.78125 34.625 \nz\nM 21.921875 38.8125 \nQ 15.578125 40.375 12.03125 44.71875 \nQ 8.5 49.078125 8.5 55.328125 \nQ 8.5 64.0625 14.71875 69.140625 \nQ 20.953125 74.21875 31.78125 74.21875 \nQ 42.671875 74.21875 48.875 69.140625 \nQ 55.078125 64.0625 55.078125 55.328125 \nQ 55.078125 49.078125 51.53125 44.71875 \nQ 48 40.375 41.703125 38.8125 \nQ 48.828125 37.15625 52.796875 32.3125 \nQ 56.78125 27.484375 56.78125 20.515625 \nQ 56.78125 9.90625 50.3125 4.234375 \nQ 43.84375 -1.421875 31.78125 -1.421875 \nQ 19.734375 -1.421875 13.25 4.234375 \nQ 6.78125 9.90625 6.78125 20.515625 \nQ 6.78125 27.484375 10.78125 32.3125 \nQ 14.796875 37.15625 21.921875 38.8125 \nz\nM 18.3125 54.390625 \nQ 18.3125 48.734375 21.84375 45.5625 \nQ 25.390625 42.390625 31.78125 42.390625 \nQ 38.140625 42.390625 41.71875 45.5625 \nQ 45.3125 48.734375 45.3125 54.390625 \nQ 45.3125 60.0625 41.71875 63.234375 \nQ 38.140625 66.40625 31.78125 66.40625 \nQ 25.390625 66.40625 21.84375 63.234375 \nQ 18.3125 60.0625 18.3125 54.390625 \nz\n\" id=\"DejaVuSans-56\"/>\n       </defs>\n       <use xlink:href=\"#DejaVuSans-48\"/>\n       <use x=\"63.623047\" xlink:href=\"#DejaVuSans-46\"/>\n       <use x=\"95.410156\" xlink:href=\"#DejaVuSans-56\"/>\n      </g>\n     </g>\n    </g>\n   </g>\n   <g id=\"patch_39\">\n    <path d=\"M 30.103125 550.8 \nL 30.103125 7.2 \n\" style=\"fill:none;stroke:#000000;stroke-linecap:square;stroke-linejoin:miter;stroke-width:0.8;\"/>\n   </g>\n   <g id=\"patch_40\">\n    <path d=\"M 1146.103125 550.8 \nL 1146.103125 7.2 \n\" style=\"fill:none;stroke:#000000;stroke-linecap:square;stroke-linejoin:miter;stroke-width:0.8;\"/>\n   </g>\n   <g id=\"patch_41\">\n    <path d=\"M 30.103125 550.8 \nL 1146.103125 550.8 \n\" style=\"fill:none;stroke:#000000;stroke-linecap:square;stroke-linejoin:miter;stroke-width:0.8;\"/>\n   </g>\n   <g id=\"patch_42\">\n    <path d=\"M 30.103125 7.2 \nL 1146.103125 7.2 \n\" style=\"fill:none;stroke:#000000;stroke-linecap:square;stroke-linejoin:miter;stroke-width:0.8;\"/>\n   </g>\n  </g>\n </g>\n <defs>\n  <clipPath id=\"p54f0c6bcdb\">\n   <rect height=\"543.6\" width=\"1116\" x=\"30.103125\" y=\"7.2\"/>\n  </clipPath>\n </defs>\n</svg>\n",
      "image/png": "[encoded data removed]"
     },
     "metadata": {
      "needs_background": "light"
     }
    }
   ],
   "source": [
    "res.f1_score.sort_values().plot.bar(figsize=(20, 10))"
   ]
  },
  {
   "cell_type": "code",
   "execution_count": 96,
   "metadata": {},
   "outputs": [
    {
     "output_type": "execute_result",
     "data": {
      "text/plain": [
       "<AxesSubplot:>"
      ]
     },
     "metadata": {},
     "execution_count": 96
    },
    {
     "output_type": "display_data",
     "data": {
      "text/plain": "<Figure size 432x288 with 1 Axes>",
      "image/svg+xml": "<?xml version=\"1.0\" encoding=\"utf-8\" standalone=\"no\"?>\n<!DOCTYPE svg PUBLIC \"-//W3C//DTD SVG 1.1//EN\"\n  \"http://www.w3.org/Graphics/SVG/1.1/DTD/svg11.dtd\">\n<!-- Created with matplotlib (https://matplotlib.org/) -->\n<svg height=\"315.824375pt\" version=\"1.1\" viewBox=\"0 0 372.103125 315.824375\" width=\"372.103125pt\" xmlns=\"http://www.w3.org/2000/svg\" xmlns:xlink=\"http://www.w3.org/1999/xlink\">\n <metadata>\n  <rdf:RDF xmlns:cc=\"http://creativecommons.org/ns#\" xmlns:dc=\"http://purl.org/dc/elements/1.1/\" xmlns:rdf=\"http://www.w3.org/1999/02/22-rdf-syntax-ns#\">\n   <cc:Work>\n    <dc:type rdf:resource=\"http://purl.org/dc/dcmitype/StillImage\"/>\n    <dc:date>2021-06-03T14:03:44.785003</dc:date>\n    <dc:format>image/svg+xml</dc:format>\n    <dc:creator>\n     <cc:Agent>\n      <dc:title>Matplotlib v3.3.4, https://matplotlib.org/</dc:title>\n     </cc:Agent>\n    </dc:creator>\n   </cc:Work>\n  </rdf:RDF>\n </metadata>\n <defs>\n  <style type=\"text/css\">*{stroke-linecap:butt;stroke-linejoin:round;}</style>\n </defs>\n <g id=\"figure_1\">\n  <g id=\"patch_1\">\n   <path d=\"M 0 315.824375 \nL 372.103125 315.824375 \nL 372.103125 0 \nL 0 0 \nz\n\" style=\"fill:none;\"/>\n  </g>\n  <g id=\"axes_1\">\n   <g id=\"patch_2\">\n    <path d=\"M 30.103125 224.64 \nL 364.903125 224.64 \nL 364.903125 7.2 \nL 30.103125 7.2 \nz\n\" style=\"fill:#ffffff;\"/>\n   </g>\n   <g id=\"patch_3\">\n    <path clip-path=\"url(#p97ea26f13c)\" d=\"M 51.028125 224.64 \nL 92.878125 224.64 \nL 92.878125 98.416908 \nL 51.028125 98.416908 \nz\n\" style=\"fill:#1f77b4;\"/>\n   </g>\n   <g id=\"patch_4\">\n    <path clip-path=\"url(#p97ea26f13c)\" d=\"M 134.728125 224.64 \nL 176.578125 224.64 \nL 176.578125 179.521426 \nL 134.728125 179.521426 \nz\n\" style=\"fill:#1f77b4;\"/>\n   </g>\n   <g id=\"patch_5\">\n    <path clip-path=\"url(#p97ea26f13c)\" d=\"M 218.428125 224.64 \nL 260.278125 224.64 \nL 260.278125 168.250249 \nL 218.428125 168.250249 \nz\n\" style=\"fill:#1f77b4;\"/>\n   </g>\n   <g id=\"patch_6\">\n    <path clip-path=\"url(#p97ea26f13c)\" d=\"M 302.128125 224.64 \nL 343.978125 224.64 \nL 343.978125 17.554286 \nL 302.128125 17.554286 \nz\n\" style=\"fill:#1f77b4;\"/>\n   </g>\n   <g id=\"matplotlib.axis_1\">\n    <g id=\"xtick_1\">\n     <g id=\"line2d_1\">\n      <defs>\n       <path d=\"M 0 0 \nL 0 3.5 \n\" id=\"mad262d4b66\" style=\"stroke:#000000;stroke-width:0.8;\"/>\n      </defs>\n      <g>\n       <use style=\"stroke:#000000;stroke-width:0.8;\" x=\"71.953125\" xlink:href=\"#mad262d4b66\" y=\"224.64\"/>\n      </g>\n     </g>\n     <g id=\"text_1\">\n      <!-- precision_score -->\n      <g transform=\"translate(74.573438 308.613437)rotate(-90)scale(0.1 -0.1)\">\n       <defs>\n        <path d=\"M 18.109375 8.203125 \nL 18.109375 -20.796875 \nL 9.078125 -20.796875 \nL 9.078125 54.6875 \nL 18.109375 54.6875 \nL 18.109375 46.390625 \nQ 20.953125 51.265625 25.265625 53.625 \nQ 29.59375 56 35.59375 56 \nQ 45.5625 56 51.78125 48.09375 \nQ 58.015625 40.1875 58.015625 27.296875 \nQ 58.015625 14.40625 51.78125 6.484375 \nQ 45.5625 -1.421875 35.59375 -1.421875 \nQ 29.59375 -1.421875 25.265625 0.953125 \nQ 20.953125 3.328125 18.109375 8.203125 \nz\nM 48.6875 27.296875 \nQ 48.6875 37.203125 44.609375 42.84375 \nQ 40.53125 48.484375 33.40625 48.484375 \nQ 26.265625 48.484375 22.1875 42.84375 \nQ 18.109375 37.203125 18.109375 27.296875 \nQ 18.109375 17.390625 22.1875 11.75 \nQ 26.265625 6.109375 33.40625 6.109375 \nQ 40.53125 6.109375 44.609375 11.75 \nQ 48.6875 17.390625 48.6875 27.296875 \nz\n\" id=\"DejaVuSans-112\"/>\n        <path d=\"M 41.109375 46.296875 \nQ 39.59375 47.171875 37.8125 47.578125 \nQ 36.03125 48 33.890625 48 \nQ 26.265625 48 22.1875 43.046875 \nQ 18.109375 38.09375 18.109375 28.8125 \nL 18.109375 0 \nL 9.078125 0 \nL 9.078125 54.6875 \nL 18.109375 54.6875 \nL 18.109375 46.1875 \nQ 20.953125 51.171875 25.484375 53.578125 \nQ 30.03125 56 36.53125 56 \nQ 37.453125 56 38.578125 55.875 \nQ 39.703125 55.765625 41.0625 55.515625 \nz\n\" id=\"DejaVuSans-114\"/>\n        <path d=\"M 56.203125 29.59375 \nL 56.203125 25.203125 \nL 14.890625 25.203125 \nQ 15.484375 15.921875 20.484375 11.0625 \nQ 25.484375 6.203125 34.421875 6.203125 \nQ 39.59375 6.203125 44.453125 7.46875 \nQ 49.3125 8.734375 54.109375 11.28125 \nL 54.109375 2.78125 \nQ 49.265625 0.734375 44.1875 -0.34375 \nQ 39.109375 -1.421875 33.890625 -1.421875 \nQ 20.796875 -1.421875 13.15625 6.1875 \nQ 5.515625 13.8125 5.515625 26.8125 \nQ 5.515625 40.234375 12.765625 48.109375 \nQ 20.015625 56 32.328125 56 \nQ 43.359375 56 49.78125 48.890625 \nQ 56.203125 41.796875 56.203125 29.59375 \nz\nM 47.21875 32.234375 \nQ 47.125 39.59375 43.09375 43.984375 \nQ 39.0625 48.390625 32.421875 48.390625 \nQ 24.90625 48.390625 20.390625 44.140625 \nQ 15.875 39.890625 15.1875 32.171875 \nz\n\" id=\"DejaVuSans-101\"/>\n        <path d=\"M 48.78125 52.59375 \nL 48.78125 44.1875 \nQ 44.96875 46.296875 41.140625 47.34375 \nQ 37.3125 48.390625 33.40625 48.390625 \nQ 24.65625 48.390625 19.8125 42.84375 \nQ 14.984375 37.3125 14.984375 27.296875 \nQ 14.984375 17.28125 19.8125 11.734375 \nQ 24.65625 6.203125 33.40625 6.203125 \nQ 37.3125 6.203125 41.140625 7.25 \nQ 44.96875 8.296875 48.78125 10.40625 \nL 48.78125 2.09375 \nQ 45.015625 0.34375 40.984375 -0.53125 \nQ 36.96875 -1.421875 32.421875 -1.421875 \nQ 20.0625 -1.421875 12.78125 6.34375 \nQ 5.515625 14.109375 5.515625 27.296875 \nQ 5.515625 40.671875 12.859375 48.328125 \nQ 20.21875 56 33.015625 56 \nQ 37.15625 56 41.109375 55.140625 \nQ 45.0625 54.296875 48.78125 52.59375 \nz\n\" id=\"DejaVuSans-99\"/>\n        <path d=\"M 9.421875 54.6875 \nL 18.40625 54.6875 \nL 18.40625 0 \nL 9.421875 0 \nz\nM 9.421875 75.984375 \nL 18.40625 75.984375 \nL 18.40625 64.59375 \nL 9.421875 64.59375 \nz\n\" id=\"DejaVuSans-105\"/>\n        <path d=\"M 44.28125 53.078125 \nL 44.28125 44.578125 \nQ 40.484375 46.53125 36.375 47.5 \nQ 32.28125 48.484375 27.875 48.484375 \nQ 21.1875 48.484375 17.84375 46.4375 \nQ 14.5 44.390625 14.5 40.28125 \nQ 14.5 37.15625 16.890625 35.375 \nQ 19.28125 33.59375 26.515625 31.984375 \nL 29.59375 31.296875 \nQ 39.15625 29.25 43.1875 25.515625 \nQ 47.21875 21.78125 47.21875 15.09375 \nQ 47.21875 7.46875 41.1875 3.015625 \nQ 35.15625 -1.421875 24.609375 -1.421875 \nQ 20.21875 -1.421875 15.453125 -0.5625 \nQ 10.6875 0.296875 5.421875 2 \nL 5.421875 11.28125 \nQ 10.40625 8.6875 15.234375 7.390625 \nQ 20.0625 6.109375 24.8125 6.109375 \nQ 31.15625 6.109375 34.5625 8.28125 \nQ 37.984375 10.453125 37.984375 14.40625 \nQ 37.984375 18.0625 35.515625 20.015625 \nQ 33.0625 21.96875 24.703125 23.78125 \nL 21.578125 24.515625 \nQ 13.234375 26.265625 9.515625 29.90625 \nQ 5.8125 33.546875 5.8125 39.890625 \nQ 5.8125 47.609375 11.28125 51.796875 \nQ 16.75 56 26.8125 56 \nQ 31.78125 56 36.171875 55.265625 \nQ 40.578125 54.546875 44.28125 53.078125 \nz\n\" id=\"DejaVuSans-115\"/>\n        <path d=\"M 30.609375 48.390625 \nQ 23.390625 48.390625 19.1875 42.75 \nQ 14.984375 37.109375 14.984375 27.296875 \nQ 14.984375 17.484375 19.15625 11.84375 \nQ 23.34375 6.203125 30.609375 6.203125 \nQ 37.796875 6.203125 41.984375 11.859375 \nQ 46.1875 17.53125 46.1875 27.296875 \nQ 46.1875 37.015625 41.984375 42.703125 \nQ 37.796875 48.390625 30.609375 48.390625 \nz\nM 30.609375 56 \nQ 42.328125 56 49.015625 48.375 \nQ 55.71875 40.765625 55.71875 27.296875 \nQ 55.71875 13.875 49.015625 6.21875 \nQ 42.328125 -1.421875 30.609375 -1.421875 \nQ 18.84375 -1.421875 12.171875 6.21875 \nQ 5.515625 13.875 5.515625 27.296875 \nQ 5.515625 40.765625 12.171875 48.375 \nQ 18.84375 56 30.609375 56 \nz\n\" id=\"DejaVuSans-111\"/>\n        <path d=\"M 54.890625 33.015625 \nL 54.890625 0 \nL 45.90625 0 \nL 45.90625 32.71875 \nQ 45.90625 40.484375 42.875 44.328125 \nQ 39.84375 48.1875 33.796875 48.1875 \nQ 26.515625 48.1875 22.3125 43.546875 \nQ 18.109375 38.921875 18.109375 30.90625 \nL 18.109375 0 \nL 9.078125 0 \nL 9.078125 54.6875 \nL 18.109375 54.6875 \nL 18.109375 46.1875 \nQ 21.34375 51.125 25.703125 53.5625 \nQ 30.078125 56 35.796875 56 \nQ 45.21875 56 50.046875 50.171875 \nQ 54.890625 44.34375 54.890625 33.015625 \nz\n\" id=\"DejaVuSans-110\"/>\n        <path d=\"M 50.984375 -16.609375 \nL 50.984375 -23.578125 \nL -0.984375 -23.578125 \nL -0.984375 -16.609375 \nz\n\" id=\"DejaVuSans-95\"/>\n       </defs>\n       <use xlink:href=\"#DejaVuSans-112\"/>\n       <use x=\"63.476562\" xlink:href=\"#DejaVuSans-114\"/>\n       <use x=\"102.339844\" xlink:href=\"#DejaVuSans-101\"/>\n       <use x=\"163.863281\" xlink:href=\"#DejaVuSans-99\"/>\n       <use x=\"218.84375\" xlink:href=\"#DejaVuSans-105\"/>\n       <use x=\"246.626953\" xlink:href=\"#DejaVuSans-115\"/>\n       <use x=\"298.726562\" xlink:href=\"#DejaVuSans-105\"/>\n       <use x=\"326.509766\" xlink:href=\"#DejaVuSans-111\"/>\n       <use x=\"387.691406\" xlink:href=\"#DejaVuSans-110\"/>\n       <use x=\"451.070312\" xlink:href=\"#DejaVuSans-95\"/>\n       <use x=\"501.070312\" xlink:href=\"#DejaVuSans-115\"/>\n       <use x=\"553.169922\" xlink:href=\"#DejaVuSans-99\"/>\n       <use x=\"608.150391\" xlink:href=\"#DejaVuSans-111\"/>\n       <use x=\"669.332031\" xlink:href=\"#DejaVuSans-114\"/>\n       <use x=\"708.195312\" xlink:href=\"#DejaVuSans-101\"/>\n      </g>\n     </g>\n    </g>\n    <g id=\"xtick_2\">\n     <g id=\"line2d_2\">\n      <g>\n       <use style=\"stroke:#000000;stroke-width:0.8;\" x=\"155.653125\" xlink:href=\"#mad262d4b66\" y=\"224.64\"/>\n      </g>\n     </g>\n     <g id=\"text_2\">\n      <!-- recall_score -->\n      <g transform=\"translate(158.273438 290.7275)rotate(-90)scale(0.1 -0.1)\">\n       <defs>\n        <path d=\"M 34.28125 27.484375 \nQ 23.390625 27.484375 19.1875 25 \nQ 14.984375 22.515625 14.984375 16.5 \nQ 14.984375 11.71875 18.140625 8.90625 \nQ 21.296875 6.109375 26.703125 6.109375 \nQ 34.1875 6.109375 38.703125 11.40625 \nQ 43.21875 16.703125 43.21875 25.484375 \nL 43.21875 27.484375 \nz\nM 52.203125 31.203125 \nL 52.203125 0 \nL 43.21875 0 \nL 43.21875 8.296875 \nQ 40.140625 3.328125 35.546875 0.953125 \nQ 30.953125 -1.421875 24.3125 -1.421875 \nQ 15.921875 -1.421875 10.953125 3.296875 \nQ 6 8.015625 6 15.921875 \nQ 6 25.140625 12.171875 29.828125 \nQ 18.359375 34.515625 30.609375 34.515625 \nL 43.21875 34.515625 \nL 43.21875 35.40625 \nQ 43.21875 41.609375 39.140625 45 \nQ 35.0625 48.390625 27.6875 48.390625 \nQ 23 48.390625 18.546875 47.265625 \nQ 14.109375 46.140625 10.015625 43.890625 \nL 10.015625 52.203125 \nQ 14.9375 54.109375 19.578125 55.046875 \nQ 24.21875 56 28.609375 56 \nQ 40.484375 56 46.34375 49.84375 \nQ 52.203125 43.703125 52.203125 31.203125 \nz\n\" id=\"DejaVuSans-97\"/>\n        <path d=\"M 9.421875 75.984375 \nL 18.40625 75.984375 \nL 18.40625 0 \nL 9.421875 0 \nz\n\" id=\"DejaVuSans-108\"/>\n       </defs>\n       <use xlink:href=\"#DejaVuSans-114\"/>\n       <use x=\"38.863281\" xlink:href=\"#DejaVuSans-101\"/>\n       <use x=\"100.386719\" xlink:href=\"#DejaVuSans-99\"/>\n       <use x=\"155.367188\" xlink:href=\"#DejaVuSans-97\"/>\n       <use x=\"216.646484\" xlink:href=\"#DejaVuSans-108\"/>\n       <use x=\"244.429688\" xlink:href=\"#DejaVuSans-108\"/>\n       <use x=\"272.212891\" xlink:href=\"#DejaVuSans-95\"/>\n       <use x=\"322.212891\" xlink:href=\"#DejaVuSans-115\"/>\n       <use x=\"374.3125\" xlink:href=\"#DejaVuSans-99\"/>\n       <use x=\"429.292969\" xlink:href=\"#DejaVuSans-111\"/>\n       <use x=\"490.474609\" xlink:href=\"#DejaVuSans-114\"/>\n       <use x=\"529.337891\" xlink:href=\"#DejaVuSans-101\"/>\n      </g>\n     </g>\n    </g>\n    <g id=\"xtick_3\">\n     <g id=\"line2d_3\">\n      <g>\n       <use style=\"stroke:#000000;stroke-width:0.8;\" x=\"239.353125\" xlink:href=\"#mad262d4b66\" y=\"224.64\"/>\n      </g>\n     </g>\n     <g id=\"text_3\">\n      <!-- f1_score -->\n      <g transform=\"translate(241.973438 273.388437)rotate(-90)scale(0.1 -0.1)\">\n       <defs>\n        <path d=\"M 37.109375 75.984375 \nL 37.109375 68.5 \nL 28.515625 68.5 \nQ 23.6875 68.5 21.796875 66.546875 \nQ 19.921875 64.59375 19.921875 59.515625 \nL 19.921875 54.6875 \nL 34.71875 54.6875 \nL 34.71875 47.703125 \nL 19.921875 47.703125 \nL 19.921875 0 \nL 10.890625 0 \nL 10.890625 47.703125 \nL 2.296875 47.703125 \nL 2.296875 54.6875 \nL 10.890625 54.6875 \nL 10.890625 58.5 \nQ 10.890625 67.625 15.140625 71.796875 \nQ 19.390625 75.984375 28.609375 75.984375 \nz\n\" id=\"DejaVuSans-102\"/>\n        <path d=\"M 12.40625 8.296875 \nL 28.515625 8.296875 \nL 28.515625 63.921875 \nL 10.984375 60.40625 \nL 10.984375 69.390625 \nL 28.421875 72.90625 \nL 38.28125 72.90625 \nL 38.28125 8.296875 \nL 54.390625 8.296875 \nL 54.390625 0 \nL 12.40625 0 \nz\n\" id=\"DejaVuSans-49\"/>\n       </defs>\n       <use xlink:href=\"#DejaVuSans-102\"/>\n       <use x=\"35.205078\" xlink:href=\"#DejaVuSans-49\"/>\n       <use x=\"98.828125\" xlink:href=\"#DejaVuSans-95\"/>\n       <use x=\"148.828125\" xlink:href=\"#DejaVuSans-115\"/>\n       <use x=\"200.927734\" xlink:href=\"#DejaVuSans-99\"/>\n       <use x=\"255.908203\" xlink:href=\"#DejaVuSans-111\"/>\n       <use x=\"317.089844\" xlink:href=\"#DejaVuSans-114\"/>\n       <use x=\"355.953125\" xlink:href=\"#DejaVuSans-101\"/>\n      </g>\n     </g>\n    </g>\n    <g id=\"xtick_4\">\n     <g id=\"line2d_4\">\n      <g>\n       <use style=\"stroke:#000000;stroke-width:0.8;\" x=\"323.053125\" xlink:href=\"#mad262d4b66\" y=\"224.64\"/>\n      </g>\n     </g>\n     <g id=\"text_4\">\n      <!-- accuracy_score -->\n      <g transform=\"translate(325.534375 308.624375)rotate(-90)scale(0.1 -0.1)\">\n       <defs>\n        <path d=\"M 8.5 21.578125 \nL 8.5 54.6875 \nL 17.484375 54.6875 \nL 17.484375 21.921875 \nQ 17.484375 14.15625 20.5 10.265625 \nQ 23.53125 6.390625 29.59375 6.390625 \nQ 36.859375 6.390625 41.078125 11.03125 \nQ 45.3125 15.671875 45.3125 23.6875 \nL 45.3125 54.6875 \nL 54.296875 54.6875 \nL 54.296875 0 \nL 45.3125 0 \nL 45.3125 8.40625 \nQ 42.046875 3.421875 37.71875 1 \nQ 33.40625 -1.421875 27.6875 -1.421875 \nQ 18.265625 -1.421875 13.375 4.4375 \nQ 8.5 10.296875 8.5 21.578125 \nz\nM 31.109375 56 \nz\n\" id=\"DejaVuSans-117\"/>\n        <path d=\"M 32.171875 -5.078125 \nQ 28.375 -14.84375 24.75 -17.8125 \nQ 21.140625 -20.796875 15.09375 -20.796875 \nL 7.90625 -20.796875 \nL 7.90625 -13.28125 \nL 13.1875 -13.28125 \nQ 16.890625 -13.28125 18.9375 -11.515625 \nQ 21 -9.765625 23.484375 -3.21875 \nL 25.09375 0.875 \nL 2.984375 54.6875 \nL 12.5 54.6875 \nL 29.59375 11.921875 \nL 46.6875 54.6875 \nL 56.203125 54.6875 \nz\n\" id=\"DejaVuSans-121\"/>\n       </defs>\n       <use xlink:href=\"#DejaVuSans-97\"/>\n       <use x=\"61.279297\" xlink:href=\"#DejaVuSans-99\"/>\n       <use x=\"116.259766\" xlink:href=\"#DejaVuSans-99\"/>\n       <use x=\"171.240234\" xlink:href=\"#DejaVuSans-117\"/>\n       <use x=\"234.619141\" xlink:href=\"#DejaVuSans-114\"/>\n       <use x=\"275.732422\" xlink:href=\"#DejaVuSans-97\"/>\n       <use x=\"337.011719\" xlink:href=\"#DejaVuSans-99\"/>\n       <use x=\"391.992188\" xlink:href=\"#DejaVuSans-121\"/>\n       <use x=\"451.171875\" xlink:href=\"#DejaVuSans-95\"/>\n       <use x=\"501.171875\" xlink:href=\"#DejaVuSans-115\"/>\n       <use x=\"553.271484\" xlink:href=\"#DejaVuSans-99\"/>\n       <use x=\"608.251953\" xlink:href=\"#DejaVuSans-111\"/>\n       <use x=\"669.433594\" xlink:href=\"#DejaVuSans-114\"/>\n       <use x=\"708.296875\" xlink:href=\"#DejaVuSans-101\"/>\n      </g>\n     </g>\n    </g>\n   </g>\n   <g id=\"matplotlib.axis_2\">\n    <g id=\"ytick_1\">\n     <g id=\"line2d_5\">\n      <defs>\n       <path d=\"M 0 0 \nL -3.5 0 \n\" id=\"m9c3cb8d395\" style=\"stroke:#000000;stroke-width:0.8;\"/>\n      </defs>\n      <g>\n       <use style=\"stroke:#000000;stroke-width:0.8;\" x=\"30.103125\" xlink:href=\"#m9c3cb8d395\" y=\"224.64\"/>\n      </g>\n     </g>\n     <g id=\"text_5\">\n      <!-- 0.0 -->\n      <g transform=\"translate(7.2 228.439219)scale(0.1 -0.1)\">\n       <defs>\n        <path d=\"M 31.78125 66.40625 \nQ 24.171875 66.40625 20.328125 58.90625 \nQ 16.5 51.421875 16.5 36.375 \nQ 16.5 21.390625 20.328125 13.890625 \nQ 24.171875 6.390625 31.78125 6.390625 \nQ 39.453125 6.390625 43.28125 13.890625 \nQ 47.125 21.390625 47.125 36.375 \nQ 47.125 51.421875 43.28125 58.90625 \nQ 39.453125 66.40625 31.78125 66.40625 \nz\nM 31.78125 74.21875 \nQ 44.046875 74.21875 50.515625 64.515625 \nQ 56.984375 54.828125 56.984375 36.375 \nQ 56.984375 17.96875 50.515625 8.265625 \nQ 44.046875 -1.421875 31.78125 -1.421875 \nQ 19.53125 -1.421875 13.0625 8.265625 \nQ 6.59375 17.96875 6.59375 36.375 \nQ 6.59375 54.828125 13.0625 64.515625 \nQ 19.53125 74.21875 31.78125 74.21875 \nz\n\" id=\"DejaVuSans-48\"/>\n        <path d=\"M 10.6875 12.40625 \nL 21 12.40625 \nL 21 0 \nL 10.6875 0 \nz\n\" id=\"DejaVuSans-46\"/>\n       </defs>\n       <use xlink:href=\"#DejaVuSans-48\"/>\n       <use x=\"63.623047\" xlink:href=\"#DejaVuSans-46\"/>\n       <use x=\"95.410156\" xlink:href=\"#DejaVuSans-48\"/>\n      </g>\n     </g>\n    </g>\n    <g id=\"ytick_2\">\n     <g id=\"line2d_6\">\n      <g>\n       <use style=\"stroke:#000000;stroke-width:0.8;\" x=\"30.103125\" xlink:href=\"#m9c3cb8d395\" y=\"180.987119\"/>\n      </g>\n     </g>\n     <g id=\"text_6\">\n      <!-- 0.2 -->\n      <g transform=\"translate(7.2 184.786338)scale(0.1 -0.1)\">\n       <defs>\n        <path d=\"M 19.1875 8.296875 \nL 53.609375 8.296875 \nL 53.609375 0 \nL 7.328125 0 \nL 7.328125 8.296875 \nQ 12.9375 14.109375 22.625 23.890625 \nQ 32.328125 33.6875 34.8125 36.53125 \nQ 39.546875 41.84375 41.421875 45.53125 \nQ 43.3125 49.21875 43.3125 52.78125 \nQ 43.3125 58.59375 39.234375 62.25 \nQ 35.15625 65.921875 28.609375 65.921875 \nQ 23.96875 65.921875 18.8125 64.3125 \nQ 13.671875 62.703125 7.8125 59.421875 \nL 7.8125 69.390625 \nQ 13.765625 71.78125 18.9375 73 \nQ 24.125 74.21875 28.421875 74.21875 \nQ 39.75 74.21875 46.484375 68.546875 \nQ 53.21875 62.890625 53.21875 53.421875 \nQ 53.21875 48.921875 51.53125 44.890625 \nQ 49.859375 40.875 45.40625 35.40625 \nQ 44.1875 33.984375 37.640625 27.21875 \nQ 31.109375 20.453125 19.1875 8.296875 \nz\n\" id=\"DejaVuSans-50\"/>\n       </defs>\n       <use xlink:href=\"#DejaVuSans-48\"/>\n       <use x=\"63.623047\" xlink:href=\"#DejaVuSans-46\"/>\n       <use x=\"95.410156\" xlink:href=\"#DejaVuSans-50\"/>\n      </g>\n     </g>\n    </g>\n    <g id=\"ytick_3\">\n     <g id=\"line2d_7\">\n      <g>\n       <use style=\"stroke:#000000;stroke-width:0.8;\" x=\"30.103125\" xlink:href=\"#m9c3cb8d395\" y=\"137.334238\"/>\n      </g>\n     </g>\n     <g id=\"text_7\">\n      <!-- 0.4 -->\n      <g transform=\"translate(7.2 141.133457)scale(0.1 -0.1)\">\n       <defs>\n        <path d=\"M 37.796875 64.3125 \nL 12.890625 25.390625 \nL 37.796875 25.390625 \nz\nM 35.203125 72.90625 \nL 47.609375 72.90625 \nL 47.609375 25.390625 \nL 58.015625 25.390625 \nL 58.015625 17.1875 \nL 47.609375 17.1875 \nL 47.609375 0 \nL 37.796875 0 \nL 37.796875 17.1875 \nL 4.890625 17.1875 \nL 4.890625 26.703125 \nz\n\" id=\"DejaVuSans-52\"/>\n       </defs>\n       <use xlink:href=\"#DejaVuSans-48\"/>\n       <use x=\"63.623047\" xlink:href=\"#DejaVuSans-46\"/>\n       <use x=\"95.410156\" xlink:href=\"#DejaVuSans-52\"/>\n      </g>\n     </g>\n    </g>\n    <g id=\"ytick_4\">\n     <g id=\"line2d_8\">\n      <g>\n       <use style=\"stroke:#000000;stroke-width:0.8;\" x=\"30.103125\" xlink:href=\"#m9c3cb8d395\" y=\"93.681357\"/>\n      </g>\n     </g>\n     <g id=\"text_8\">\n      <!-- 0.6 -->\n      <g transform=\"translate(7.2 97.480576)scale(0.1 -0.1)\">\n       <defs>\n        <path d=\"M 33.015625 40.375 \nQ 26.375 40.375 22.484375 35.828125 \nQ 18.609375 31.296875 18.609375 23.390625 \nQ 18.609375 15.53125 22.484375 10.953125 \nQ 26.375 6.390625 33.015625 6.390625 \nQ 39.65625 6.390625 43.53125 10.953125 \nQ 47.40625 15.53125 47.40625 23.390625 \nQ 47.40625 31.296875 43.53125 35.828125 \nQ 39.65625 40.375 33.015625 40.375 \nz\nM 52.59375 71.296875 \nL 52.59375 62.3125 \nQ 48.875 64.0625 45.09375 64.984375 \nQ 41.3125 65.921875 37.59375 65.921875 \nQ 27.828125 65.921875 22.671875 59.328125 \nQ 17.53125 52.734375 16.796875 39.40625 \nQ 19.671875 43.65625 24.015625 45.921875 \nQ 28.375 48.1875 33.59375 48.1875 \nQ 44.578125 48.1875 50.953125 41.515625 \nQ 57.328125 34.859375 57.328125 23.390625 \nQ 57.328125 12.15625 50.6875 5.359375 \nQ 44.046875 -1.421875 33.015625 -1.421875 \nQ 20.359375 -1.421875 13.671875 8.265625 \nQ 6.984375 17.96875 6.984375 36.375 \nQ 6.984375 53.65625 15.1875 63.9375 \nQ 23.390625 74.21875 37.203125 74.21875 \nQ 40.921875 74.21875 44.703125 73.484375 \nQ 48.484375 72.75 52.59375 71.296875 \nz\n\" id=\"DejaVuSans-54\"/>\n       </defs>\n       <use xlink:href=\"#DejaVuSans-48\"/>\n       <use x=\"63.623047\" xlink:href=\"#DejaVuSans-46\"/>\n       <use x=\"95.410156\" xlink:href=\"#DejaVuSans-54\"/>\n      </g>\n     </g>\n    </g>\n    <g id=\"ytick_5\">\n     <g id=\"line2d_9\">\n      <g>\n       <use style=\"stroke:#000000;stroke-width:0.8;\" x=\"30.103125\" xlink:href=\"#m9c3cb8d395\" y=\"50.028476\"/>\n      </g>\n     </g>\n     <g id=\"text_9\">\n      <!-- 0.8 -->\n      <g transform=\"translate(7.2 53.827695)scale(0.1 -0.1)\">\n       <defs>\n        <path d=\"M 31.78125 34.625 \nQ 24.75 34.625 20.71875 30.859375 \nQ 16.703125 27.09375 16.703125 20.515625 \nQ 16.703125 13.921875 20.71875 10.15625 \nQ 24.75 6.390625 31.78125 6.390625 \nQ 38.8125 6.390625 42.859375 10.171875 \nQ 46.921875 13.96875 46.921875 20.515625 \nQ 46.921875 27.09375 42.890625 30.859375 \nQ 38.875 34.625 31.78125 34.625 \nz\nM 21.921875 38.8125 \nQ 15.578125 40.375 12.03125 44.71875 \nQ 8.5 49.078125 8.5 55.328125 \nQ 8.5 64.0625 14.71875 69.140625 \nQ 20.953125 74.21875 31.78125 74.21875 \nQ 42.671875 74.21875 48.875 69.140625 \nQ 55.078125 64.0625 55.078125 55.328125 \nQ 55.078125 49.078125 51.53125 44.71875 \nQ 48 40.375 41.703125 38.8125 \nQ 48.828125 37.15625 52.796875 32.3125 \nQ 56.78125 27.484375 56.78125 20.515625 \nQ 56.78125 9.90625 50.3125 4.234375 \nQ 43.84375 -1.421875 31.78125 -1.421875 \nQ 19.734375 -1.421875 13.25 4.234375 \nQ 6.78125 9.90625 6.78125 20.515625 \nQ 6.78125 27.484375 10.78125 32.3125 \nQ 14.796875 37.15625 21.921875 38.8125 \nz\nM 18.3125 54.390625 \nQ 18.3125 48.734375 21.84375 45.5625 \nQ 25.390625 42.390625 31.78125 42.390625 \nQ 38.140625 42.390625 41.71875 45.5625 \nQ 45.3125 48.734375 45.3125 54.390625 \nQ 45.3125 60.0625 41.71875 63.234375 \nQ 38.140625 66.40625 31.78125 66.40625 \nQ 25.390625 66.40625 21.84375 63.234375 \nQ 18.3125 60.0625 18.3125 54.390625 \nz\n\" id=\"DejaVuSans-56\"/>\n       </defs>\n       <use xlink:href=\"#DejaVuSans-48\"/>\n       <use x=\"63.623047\" xlink:href=\"#DejaVuSans-46\"/>\n       <use x=\"95.410156\" xlink:href=\"#DejaVuSans-56\"/>\n      </g>\n     </g>\n    </g>\n   </g>\n   <g id=\"patch_7\">\n    <path d=\"M 30.103125 224.64 \nL 30.103125 7.2 \n\" style=\"fill:none;stroke:#000000;stroke-linecap:square;stroke-linejoin:miter;stroke-width:0.8;\"/>\n   </g>\n   <g id=\"patch_8\">\n    <path d=\"M 364.903125 224.64 \nL 364.903125 7.2 \n\" style=\"fill:none;stroke:#000000;stroke-linecap:square;stroke-linejoin:miter;stroke-width:0.8;\"/>\n   </g>\n   <g id=\"patch_9\">\n    <path d=\"M 30.103125 224.64 \nL 364.903125 224.64 \n\" style=\"fill:none;stroke:#000000;stroke-linecap:square;stroke-linejoin:miter;stroke-width:0.8;\"/>\n   </g>\n   <g id=\"patch_10\">\n    <path d=\"M 30.103125 7.2 \nL 364.903125 7.2 \n\" style=\"fill:none;stroke:#000000;stroke-linecap:square;stroke-linejoin:miter;stroke-width:0.8;\"/>\n   </g>\n  </g>\n </g>\n <defs>\n  <clipPath id=\"p97ea26f13c\">\n   <rect height=\"217.44\" width=\"334.8\" x=\"30.103125\" y=\"7.2\"/>\n  </clipPath>\n </defs>\n</svg>\n",
      "image/png": "[encoded data removed]"
     },
     "metadata": {
      "needs_background": "light"
     }
    }
   ],
   "source": [
    "macro_res = res.mean()\n",
    "macro_res.plot.bar()"
   ]
  },
  {
   "cell_type": "markdown",
   "metadata": {},
   "source": [
    "### 6. Improve your model\n",
    "Use grid search to find better parameters. "
   ]
  },
  {
   "cell_type": "code",
   "execution_count": null,
   "metadata": {},
   "outputs": [],
   "source": [
    "parameters = \n",
    "\n",
    "cv = "
   ]
  },
  {
   "cell_type": "markdown",
   "metadata": {},
   "source": [
    "### 7. Test your model\n",
    "Show the accuracy, precision, and recall of the tuned model.  \n",
    "\n",
    "Since this project focuses on code quality, process, and  pipelines, there is no minimum performance metric needed to pass. However, make sure to fine tune your models for accuracy, precision and recall to make your project stand out - especially for your portfolio!"
   ]
  },
  {
   "cell_type": "code",
   "execution_count": null,
   "metadata": {},
   "outputs": [],
   "source": []
  },
  {
   "cell_type": "markdown",
   "metadata": {},
   "source": [
    "### 8. Try improving your model further. Here are a few ideas:\n",
    "* try other machine learning algorithms\n",
    "* add other features besides the TF-IDF"
   ]
  },
  {
   "cell_type": "code",
   "execution_count": null,
   "metadata": {},
   "outputs": [],
   "source": []
  },
  {
   "cell_type": "markdown",
   "metadata": {},
   "source": [
    "### 9. Export your model as a pickle file"
   ]
  },
  {
   "cell_type": "code",
   "execution_count": null,
   "metadata": {},
   "outputs": [],
   "source": []
  },
  {
   "cell_type": "markdown",
   "metadata": {},
   "source": [
    "### 10. Use this notebook to complete `train.py`\n",
    "Use the template file attached in the Resources folder to write a script that runs the steps above to create a database and export a model based on a new dataset specified by the user."
   ]
  },
  {
   "cell_type": "code",
   "execution_count": null,
   "metadata": {},
   "outputs": [],
   "source": []
  }
 ],
 "metadata": {
  "kernelspec": {
   "name": "python369jvsc74a57bd071152a2e0bb04829e0ab9e42cdae9b8bb088b7b0dcba8484cae099c9c795e1b3",
   "display_name": "Python 3.6.9 64-bit ('.venv': virtualenv)"
  },
  "language_info": {
   "codemirror_mode": {
    "name": "ipython",
    "version": 3
   },
   "file_extension": ".py",
   "mimetype": "text/x-python",
   "name": "python",
   "nbconvert_exporter": "python",
   "pygments_lexer": "ipython3",
   "version": "3.6.9"
  },
  "metadata": {
   "interpreter": {
    "hash": "71152a2e0bb04829e0ab9e42cdae9b8bb088b7b0dcba8484cae099c9c795e1b3"
   }
  }
 },
 "nbformat": 4,
 "nbformat_minor": 2
}